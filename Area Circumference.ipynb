{
 "cells": [
  {
   "cell_type": "code",
   "execution_count": 6,
   "id": "1d0a5d65",
   "metadata": {},
   "outputs": [
    {
     "name": "stdout",
     "output_type": "stream",
     "text": [
      "Enter the Radius of circle :5\n",
      "78.5\n",
      "31.400000000000002\n"
     ]
    }
   ],
   "source": [
    "r = int(input(\"Enter the Radius of circle :\"))\n",
    "area = 3.14*r*r\n",
    "circumference= 2*3.14*r\n",
    "print(area)\n",
    "print(circumference)"
   ]
  },
  {
   "cell_type": "code",
   "execution_count": null,
   "id": "5a3c3783",
   "metadata": {},
   "outputs": [],
   "source": []
  }
 ],
 "metadata": {
  "kernelspec": {
   "display_name": "Python 3 (ipykernel)",
   "language": "python",
   "name": "python3"
  },
  "language_info": {
   "codemirror_mode": {
    "name": "ipython",
    "version": 3
   },
   "file_extension": ".py",
   "mimetype": "text/x-python",
   "name": "python",
   "nbconvert_exporter": "python",
   "pygments_lexer": "ipython3",
   "version": "3.10.9"
  }
 },
 "nbformat": 4,
 "nbformat_minor": 5
}
