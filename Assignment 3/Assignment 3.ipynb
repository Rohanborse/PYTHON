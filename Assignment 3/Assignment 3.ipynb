{
 "cells": [
  {
   "cell_type": "markdown",
   "id": "6aa4f663",
   "metadata": {},
   "source": [
    "## Assignment 3"
   ]
  },
  {
   "cell_type": "markdown",
   "id": "98edbda2",
   "metadata": {},
   "source": [
    "Name : Rohan Borse \n",
    "\n",
    "PRN : 230350125065"
   ]
  },
  {
   "cell_type": "markdown",
   "id": "24273125",
   "metadata": {},
   "source": [
    "1. Read the given file rhyme.txt and display lines from it in lower case."
   ]
  },
  {
   "cell_type": "code",
   "execution_count": 6,
   "id": "af93806b",
   "metadata": {},
   "outputs": [
    {
     "name": "stdout",
     "output_type": "stream",
     "text": [
      "baa, baa, black sheep,\n",
      "have you any wool?\n",
      "yes, sir, yes, sir,\n",
      "three bags full;\n",
      "one for the master,\n",
      "and one for the dame,\n",
      "and one for the little boy\n",
      "who lives down the lane.\n",
      "\n"
     ]
    }
   ],
   "source": [
    "f = open(\"rhyme.txt\",\"r\")\n",
    "print(f.read().lower())"
   ]
  },
  {
   "cell_type": "markdown",
   "id": "de97e066",
   "metadata": {},
   "source": [
    "2 Write a function to accept Shipping Address from the User with following fields:\n",
    "\n",
    "I. First Name\n",
    "\n",
    "II. Last Name\n",
    "\n",
    "III. Address Line 1\n",
    "\n",
    "IV. Address Line 2\n",
    "\n",
    "V. City\n",
    "\n",
    "VI. State\n",
    "\n",
    "VII. Pin Code\n",
    "\n",
    "Save all shipping addresses in a file named address.txt."
   ]
  },
  {
   "cell_type": "code",
   "execution_count": 133,
   "id": "82760995",
   "metadata": {
    "scrolled": false
   },
   "outputs": [
    {
     "name": "stdout",
     "output_type": "stream",
     "text": [
      "Enter the First Name : Rohan\n",
      "Enter the Last Name : Borse\n",
      "Enter the Adess Line 1 :Sr PG ,Niladri \n",
      "Enter the Adess Line 2 :EC Phase 1,\n",
      "Enter the Name of City : Bglr\n",
      "Enter the Name of State : KA\n",
      "Enter the Pin Code : 560100\n"
     ]
    }
   ],
   "source": [
    "def Shipping_Adress():\n",
    "    FN = input(\"Enter the First Name : \")\n",
    "    LN = input(\"Enter the Last Name : \")\n",
    "    AL1 = input(\"Enter the Adess Line 1 :\")\n",
    "    AL2 = input(\"Enter the Adess Line 2 :\")\n",
    "    Cty = input(\"Enter the Name of City : \")\n",
    "    State = input(\"Enter the Name of State : \")\n",
    "    PinCod = input(\"Enter the Pin Code : \")\n",
    "    with open(\"Address.txt\", \"w\") as f:    \n",
    "        f.write(f\"Name : {FN} {LN}\\n\")\n",
    "        f.write(f\"Adress Line 1 : {AL1}\\n\")\n",
    "        f.write(f\"Adress Line 2 : {AL2}\\n\")\n",
    "        f.write(f\"City,State : {Cty}, {State}\\n\")\n",
    "        f.write(f\"Pin Code : {PinCod}\\n\\n\")\n",
    "        \n",
    "\n",
    "Shipping_Adress()\n",
    "    "
   ]
  },
  {
   "cell_type": "markdown",
   "id": "188dea68",
   "metadata": {},
   "source": [
    "3. After accepting Shipping address from user (previous question continued) ask\n",
    "user whether the billing address is same as shipping address, if not, accept\n",
    "billing address from the user with the same fields as mentioned above. Now\n",
    "save these both addresses in the same file with appropriate titles. If we run this\n",
    "code multiple times all the addresses must be saved in the same file."
   ]
  },
  {
   "cell_type": "code",
   "execution_count": 134,
   "id": "eeed5d5b",
   "metadata": {},
   "outputs": [
    {
     "name": "stdout",
     "output_type": "stream",
     "text": [
      "Enter the First Name : Rohan\n",
      "Enter the Last Name : Borse\n",
      "Enter the Adess Line 1 :SR PG ,Niladri\n",
      "Enter the Adess Line 2 :EC Phase1,\n",
      "Enter the Name of City : Bglr\n",
      "Enter the Name of State : KA\n",
      "Enter the Pin Code : 560100\n",
      "Is Billing Adress Same as Shipping Adress \n",
      "if yes press Y / if No then press N N\n",
      "Billing Adress is Different Than Shipping Adress\n",
      "Enter The Shipping Adress : Cdac,EC PHASE1,bglr,KA, 560100\n"
     ]
    }
   ],
   "source": [
    "def Shipping_Adress():\n",
    "    FN = input(\"Enter the First Name : \")\n",
    "    LN = input(\"Enter the Last Name : \")\n",
    "    AL1 = input(\"Enter the Adess Line 1 :\")\n",
    "    AL2 = input(\"Enter the Adess Line 2 :\")\n",
    "    Cty = input(\"Enter the Name of City : \")\n",
    "    State = input(\"Enter the Name of State : \")\n",
    "    PinCod = input(\"Enter the Pin Code : \")\n",
    "    \n",
    "    print (\"Is Billing Adress Same as Shipping Adress \")\n",
    "    samediff = input(\"if yes press Y / if No then press N \")\n",
    "    samediff.lower()\n",
    "    if samediff == \"y\":\n",
    "        Billing_Adress = \"Billing Adress Is Same As Shipping Adress\"\n",
    "        print(Billing_Adress)\n",
    "        print(AL1 , AL2 )\n",
    "        with open(\"Address.txt\", \"a\") as f:    \n",
    "            f.write(f\"Name : {FN} {LN}\\n\")\n",
    "            f.write(f\"Shipping Adress : {AL1} {AL2}\\n\")\n",
    "            f.write(f\"City,State : {Cty}, {State}\\n\")\n",
    "            f.write(f\"Pin Code : {PinCod}\\n\\n\")\n",
    "    else:\n",
    "        Billing_Adress = \"Billing Adress is Different Than Shipping Adress\"\n",
    "        print(Billing_Adress)\n",
    "        AL = input(\"Enter The Shipping Adress : \")\n",
    "            \n",
    "        with open(\"Address.txt\", \"a\") as f:    \n",
    "            f.write(f\"Name : {FN} {LN}\\n\")\n",
    "            f.write(f\"Shipping Adress : {AL1} {AL2}\\n\")\n",
    "            f.write(f\"Billing Adress : {AL}\\n\")\n",
    "            f.write(f\"City,State : {Cty}, {State}\\n\")\n",
    "            f.write(f\"Pin Code : {PinCod}\\n\\n\")\n",
    "        \n",
    "    \n",
    "Shipping_Adress()          \n",
    "        "
   ]
  },
  {
   "cell_type": "markdown",
   "id": "7014ff84",
   "metadata": {},
   "source": [
    "4. Write a function called reduce_whitespace(), in a module named\n",
    "string_operations, that returns the line with all extra whitespace characters\n",
    "between words replaced with single space.\n",
    "Read the given file white_spaces.txt and apply this function,\n",
    "reduce_whitespace(), by importing from module, on all the lines in the file,\n",
    "one by one, and then save these lines in a new file."
   ]
  },
  {
   "cell_type": "code",
   "execution_count": 2,
   "id": "bdbb4450",
   "metadata": {},
   "outputs": [],
   "source": [
    "from String_Operation import *\n",
    "\n",
    "with open('white_spaces.txt', 'r') as f:\n",
    "    lines = f.readlines()\n",
    "\n",
    "new_lines = []\n",
    "for line in lines:\n",
    "    new_line = remove_whitespace(line)\n",
    "    new_lines.append(new_line)\n",
    "\n",
    "with open('new_white_spaces.txt', 'w') as f:\n",
    "    f.writelines(new_lines)\n"
   ]
  },
  {
   "cell_type": "markdown",
   "id": "796abe7a",
   "metadata": {},
   "source": [
    "5. LUCKY WINNER: Write a function, to select a random name from the file\n",
    "students.txt. Each time we call this function, the name & roll number should\n",
    "be displayed without repetition."
   ]
  },
  {
   "cell_type": "code",
   "execution_count": 135,
   "id": "f51586f6",
   "metadata": {},
   "outputs": [
    {
     "name": "stdout",
     "output_type": "stream",
     "text": [
      "230350125052 PARIMAL PRAMOD DHANAGARE\n",
      "\n"
     ]
    }
   ],
   "source": [
    "import random\n",
    "\n",
    "def Lucky(number:str):\n",
    "    with open(\"students.txt\", 'r') as file:\n",
    "        line = file.readline().split(\",\")\n",
    "        while line[0] != number :\n",
    "            line = file.readline().split(\",\")\n",
    "        else:\n",
    "            print(*line)\n",
    "        \n",
    "def main():\n",
    "    pnr = \"2303501250\"\n",
    "    rn = random.randint(1, 90)\n",
    "    if rn>0 and rn<10 :\n",
    "        number = pnr + '0' + str(rn)\n",
    "    elif rn>=10 and rn<=90 :\n",
    "        number  = pnr + str(rn)\n",
    "    \n",
    "    Lucky(number)\n",
    "\n",
    "main()\n"
   ]
  },
  {
   "cell_type": "markdown",
   "id": "e412fe6d",
   "metadata": {},
   "source": [
    "6. File movies_data.txt contains data about movies. Each line of this file\n",
    "\n",
    "contains data for 1 movie. Data is in following format:\n",
    "\n",
    "movie_id::movie_name (release_rear)::genres\n",
    "                \n",
    "\n",
    "If movie falls in more than one genre then those are separated by “|”.\n",
    "\n",
    "E.g.: Comedy|Drama|Romance\n",
    "    \n",
    "Based on the data in this file answer the following questions:\n",
    "    \n",
    "a) Find the number of movies released every year in a dictionary.\n",
    "\n",
    "Sample output: {'1923': 3, '1930': 7, '1957': 20...}\n",
    "    \n",
    "b) Find the total number of movie names starting with T or J.\n",
    "\n",
    "c) How many comedy movies were released in 1995?\n",
    "\n",
    "d) How many action movies were released in 1993?\n",
    "\n",
    "e) How many Batman movies are present in the file?\n"
   ]
  },
  {
   "cell_type": "code",
   "execution_count": 1,
   "id": "d4835454",
   "metadata": {},
   "outputs": [
    {
     "name": "stdout",
     "output_type": "stream",
     "text": [
      "Total movies released every year : \n",
      "{1919: 3, 1920: 2, 1921: 1, 1922: 2, 1923: 3, 1925: 6, 1926: 8, 1927: 6, 1928: 3, 1929: 3, 1930: 7, 1931: 7, 1932: 7, 1933: 7, 1934: 7, 1935: 6, 1936: 8, 1937: 11, 1938: 6, 1939: 11, 1940: 19, 1941: 11, 1942: 13, 1943: 10, 1944: 13, 1945: 11, 1946: 13, 1947: 14, 1948: 12, 1949: 10, 1950: 14, 1951: 12, 1952: 11, 1953: 14, 1954: 15, 1955: 19, 1956: 19, 1957: 20, 1958: 22, 1959: 22, 1960: 15, 1961: 19, 1962: 20, 1963: 25, 1964: 16, 1965: 20, 1966: 12, 1967: 24, 1968: 22, 1969: 18, 1970: 16, 1971: 26, 1972: 22, 1973: 29, 1974: 28, 1975: 21, 1976: 21, 1977: 22, 1978: 30, 1979: 32, 1980: 41, 1981: 43, 1982: 50, 1983: 35, 1984: 60, 1985: 65, 1986: 104, 1987: 71, 1988: 69, 1989: 60, 1990: 77, 1991: 60, 1992: 102, 1993: 165, 1994: 257, 1995: 342, 1996: 345, 1997: 315, 1998: 337, 1999: 283, 2000: 156}\n",
      "-------------------------------------------------------------------------------\n",
      "total number of movie names starting with T or J : \n",
      "304\n",
      "-------------------------------------------------------------------------------\n",
      "Total comedy movies released in 1995 :  342\n",
      "\n",
      "Total action movies released in 1993 :  165\n",
      "-------------------------------------------------------------------------------\n",
      "Total Batman movies are present in the file : \n",
      "5\n"
     ]
    }
   ],
   "source": [
    "from movie_Details import *\n",
    "\n",
    "\n",
    "print(\"Total movies released every year : \")\n",
    "get_year_dict()\n",
    "print(\"-------------------------------------------------------------------------------\")\n",
    "print(\"total number of movie names starting with T or J : \")\n",
    "movie_name()\n",
    "print(\"-------------------------------------------------------------------------------\")\n",
    "y = yeargener()\n",
    "print(\"Total comedy movies released in 1995 : \", y[0])\n",
    "print()\n",
    "print(\"Total action movies released in 1993 : \", y[1])\n",
    "print(\"-------------------------------------------------------------------------------\")\n",
    "print(\"Total Batman movies are present in the file : \")\n",
    "batman()"
   ]
  }
 ],
 "metadata": {
  "kernelspec": {
   "display_name": "Python 3 (ipykernel)",
   "language": "python",
   "name": "python3"
  },
  "language_info": {
   "codemirror_mode": {
    "name": "ipython",
    "version": 3
   },
   "file_extension": ".py",
   "mimetype": "text/x-python",
   "name": "python",
   "nbconvert_exporter": "python",
   "pygments_lexer": "ipython3",
   "version": "3.10.9"
  }
 },
 "nbformat": 4,
 "nbformat_minor": 5
}
