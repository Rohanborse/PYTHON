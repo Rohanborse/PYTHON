{
 "cells": [
  {
   "cell_type": "code",
   "execution_count": 4,
   "id": "3324a92e",
   "metadata": {
    "scrolled": false
   },
   "outputs": [
    {
     "name": "stdout",
     "output_type": "stream",
     "text": [
      "Total movies released every year : \n",
      "{1919: 3, 1920: 2, 1921: 1, 1922: 2, 1923: 3, 1925: 6, 1926: 8, 1927: 6, 1928: 3, 1929: 3, 1930: 7, 1931: 7, 1932: 7, 1933: 7, 1934: 7, 1935: 6, 1936: 8, 1937: 11, 1938: 6, 1939: 11, 1940: 19, 1941: 11, 1942: 13, 1943: 10, 1944: 13, 1945: 11, 1946: 13, 1947: 14, 1948: 12, 1949: 10, 1950: 14, 1951: 12, 1952: 11, 1953: 14, 1954: 15, 1955: 19, 1956: 19, 1957: 20, 1958: 22, 1959: 22, 1960: 15, 1961: 19, 1962: 20, 1963: 25, 1964: 16, 1965: 20, 1966: 12, 1967: 24, 1968: 22, 1969: 18, 1970: 16, 1971: 26, 1972: 22, 1973: 29, 1974: 28, 1975: 21, 1976: 21, 1977: 22, 1978: 30, 1979: 32, 1980: 41, 1981: 43, 1982: 50, 1983: 35, 1984: 60, 1985: 65, 1986: 104, 1987: 71, 1988: 69, 1989: 60, 1990: 77, 1991: 60, 1992: 102, 1993: 165, 1994: 257, 1995: 342, 1996: 345, 1997: 315, 1998: 337, 1999: 283, 2000: 156}\n",
      "-------------------------------------------------------------------------------\n",
      "total number of movie names starting with T or J : \n",
      "304\n",
      "-------------------------------------------------------------------------------\n",
      "Total comedy movies released in 1995 :  342\n",
      "\n",
      "Total action movies released in 1993 :  165\n",
      "-------------------------------------------------------------------------------\n",
      "Total Batman movies are present in the file : \n",
      "5\n"
     ]
    }
   ],
   "source": [
    "from movie_Details import *\n",
    "\n",
    "\n",
    "print(\"Total movies released every year : \")\n",
    "get_year_dict()\n",
    "print(\"-------------------------------------------------------------------------------\")\n",
    "print(\"total number of movie names starting with T or J : \")\n",
    "movie_name()\n",
    "print(\"-------------------------------------------------------------------------------\")\n",
    "y = yeargener()\n",
    "print(\"Total comedy movies released in 1995 : \", y[0])\n",
    "print()\n",
    "print(\"Total action movies released in 1993 : \", y[1])\n",
    "print(\"-------------------------------------------------------------------------------\")\n",
    "print(\"Total Batman movies are present in the file : \")\n",
    "batman()"
   ]
  },
  {
   "cell_type": "code",
   "execution_count": null,
   "id": "28d64c85",
   "metadata": {},
   "outputs": [],
   "source": [
    "\n"
   ]
  },
  {
   "cell_type": "code",
   "execution_count": null,
   "id": "49e93369",
   "metadata": {},
   "outputs": [],
   "source": []
  }
 ],
 "metadata": {
  "kernelspec": {
   "display_name": "Python 3 (ipykernel)",
   "language": "python",
   "name": "python3"
  },
  "language_info": {
   "codemirror_mode": {
    "name": "ipython",
    "version": 3
   },
   "file_extension": ".py",
   "mimetype": "text/x-python",
   "name": "python",
   "nbconvert_exporter": "python",
   "pygments_lexer": "ipython3",
   "version": "3.10.9"
  }
 },
 "nbformat": 4,
 "nbformat_minor": 5
}
