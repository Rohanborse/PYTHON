{
 "cells": [
  {
   "cell_type": "code",
   "execution_count": 3,
   "id": "316d3153",
   "metadata": {},
   "outputs": [
    {
     "name": "stdout",
     "output_type": "stream",
     "text": [
      "Enter the File name :abc.txt\n",
      "File Extension : txt\n"
     ]
    }
   ],
   "source": [
    "a = input(\"Enter the File name :\")\n",
    "x = a.split(\".\")\n",
    "print(\"File Extension :\", x[1])"
   ]
  },
  {
   "cell_type": "code",
   "execution_count": null,
   "id": "db63f1fa",
   "metadata": {},
   "outputs": [],
   "source": []
  }
 ],
 "metadata": {
  "kernelspec": {
   "display_name": "Python 3 (ipykernel)",
   "language": "python",
   "name": "python3"
  },
  "language_info": {
   "codemirror_mode": {
    "name": "ipython",
    "version": 3
   },
   "file_extension": ".py",
   "mimetype": "text/x-python",
   "name": "python",
   "nbconvert_exporter": "python",
   "pygments_lexer": "ipython3",
   "version": "3.10.9"
  }
 },
 "nbformat": 4,
 "nbformat_minor": 5
}
