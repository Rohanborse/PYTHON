{
 "cells": [
  {
   "cell_type": "markdown",
   "id": "3a2eeed9",
   "metadata": {},
   "source": [
    "NAME : Rohan Borses "
   ]
  },
  {
   "cell_type": "markdown",
   "id": "4df7904c",
   "metadata": {},
   "source": [
    " PRN : 230350125065"
   ]
  },
  {
   "cell_type": "markdown",
   "id": "f8f96987",
   "metadata": {},
   "source": [
    "# LAB ASSIGNMENT 1"
   ]
  },
  {
   "cell_type": "markdown",
   "id": "f89ff926",
   "metadata": {},
   "source": [
    "## Question 1"
   ]
  },
  {
   "cell_type": "markdown",
   "id": "18a7c83c",
   "metadata": {},
   "source": [
    "1. Write a program which accepts the radius of a circle from the user and\n",
    "compute its area and circumference and display the output."
   ]
  },
  {
   "cell_type": "code",
   "execution_count": 2,
   "id": "43a37600",
   "metadata": {},
   "outputs": [
    {
     "name": "stdout",
     "output_type": "stream",
     "text": [
      "Enter the Radius of circle :3\n",
      "28.259999999999998\n",
      "18.84\n"
     ]
    }
   ],
   "source": [
    "r = int(input(\"Enter the Radius of circle :\"))\n",
    "area = 3.14*r*r\n",
    "circumference= 2*3.14*r\n",
    "print(area)\n",
    "print(circumference)"
   ]
  },
  {
   "cell_type": "markdown",
   "id": "8ada3ddf",
   "metadata": {},
   "source": [
    "## Question 2\n",
    "\n",
    "Write a program to find whether a given number (accept number from the\n",
    "user) is even or odd, print out an appropriate message to the user. If the\n",
    "number is even, print its square and if the number is odd, print its cube."
   ]
  },
  {
   "cell_type": "code",
   "execution_count": 3,
   "id": "90364646",
   "metadata": {},
   "outputs": [
    {
     "name": "stdout",
     "output_type": "stream",
     "text": [
      "Enter the no. :4\n",
      "16\n"
     ]
    }
   ],
   "source": [
    "a = int(input(\"Enter the no. :\"))\n",
    "if a % 2 == 0:\n",
    "    print (a*a)\n",
    "else:\n",
    "    print (a*a*a)"
   ]
  },
  {
   "cell_type": "markdown",
   "id": "8bc86cb4",
   "metadata": {},
   "source": [
    "## Question 3\n",
    "\n",
    "Write a program to test whether a passed letter is a vowel or not. (Accept\n",
    "letter from the user)"
   ]
  },
  {
   "cell_type": "code",
   "execution_count": 6,
   "id": "be7d4bad",
   "metadata": {},
   "outputs": [
    {
     "name": "stdout",
     "output_type": "stream",
     "text": [
      "Enter the letter :i\n",
      "Enter letter is vowel\n"
     ]
    }
   ],
   "source": [
    "x = input(\"Enter the letter :\")\n",
    "if (x=='a',x=='e',x=='i',x=='o',x=='u',x=='A',x=='E',x=='I',x=='O',x=='U'):\n",
    "    print(\"Enter letter is vowel\")\n",
    "else:\n",
    "    print(\"Enter letter is not vowel\")"
   ]
  },
  {
   "cell_type": "markdown",
   "id": "04d997aa",
   "metadata": {},
   "source": [
    "## Question 4\n",
    "\n",
    "4. Write a program to implement a simple calculator that can add, subtract,\n",
    "multiply and divide two integers. Take the required operation as choice from\n",
    "the user."
   ]
  },
  {
   "cell_type": "code",
   "execution_count": 7,
   "id": "b82a88f0",
   "metadata": {},
   "outputs": [
    {
     "name": "stdout",
     "output_type": "stream",
     "text": [
      "enter the 1st no. : 4\n",
      "enter the 2nd no. : 3\n",
      "enter the operation you want to perform :multiPLICATION\n",
      "Multiplication :  12\n"
     ]
    }
   ],
   "source": [
    "a = int(input(\"enter the 1st no. : \"))\n",
    "b = int(input(\"enter the 2nd no. : \"))\n",
    "x = input(\"enter the operation you want to perform :\")\n",
    "x = x.lower()\n",
    "if (x=='addition'):\n",
    "    print(\"Addition  : \", a+b)\n",
    "elif(x=='substraction'):\n",
    "    print(\"Substraction :\", a-b)\n",
    "elif(x=='multiplication'):\n",
    "    print(\"Multiplication : \", a*b)\n",
    "elif(x=='division'):\n",
    "    print(\"Division :\", a/b)"
   ]
  },
  {
   "cell_type": "markdown",
   "id": "2972a619",
   "metadata": {},
   "source": [
    "## Question 5\n",
    "\n",
    "5. Write a program to check whether a number is a prime number or not.\n"
   ]
  },
  {
   "cell_type": "code",
   "execution_count": 14,
   "id": "84046c7b",
   "metadata": {},
   "outputs": [
    {
     "name": "stdout",
     "output_type": "stream",
     "text": [
      "Enter the Number :6\n",
      "its not a prime no.\n"
     ]
    }
   ],
   "source": [
    "a = int(input(\"Enter the Number :\"))\n",
    "count = 0\n",
    "for x in range(2,a):\n",
    "        if(a%x==0):\n",
    "            count = 1\n",
    "if (count==0):\n",
    "    print(\"its  prime no.\")\n",
    "else:\n",
    "    print(\"its not a prime no.\")"
   ]
  },
  {
   "cell_type": "markdown",
   "id": "aa3694f0",
   "metadata": {},
   "source": [
    "## Question 6\n",
    "\n",
    "6. Write a program to remove all the following punctuation/special characters\n",
    "from the given string.\n",
    "!()-[]{};:'\"\\,<>./?@#$%^&*_~\n",
    "\n"
   ]
  },
  {
   "cell_type": "code",
   "execution_count": 13,
   "id": "dfe93f50",
   "metadata": {},
   "outputs": [
    {
     "name": "stdout",
     "output_type": "stream",
     "text": [
      "Enter the String :Roh@#$%an\n",
      "Rohan\n"
     ]
    }
   ],
   "source": [
    "a = '''!()-[]{};:'\"\\,<>./?@#$%^&*_~'''\n",
    "x = input(\"Enter the String :\")\n",
    "for B in a:\n",
    "    x = x.replace(B,\"\")\n",
    "print(x)\n",
    "    "
   ]
  },
  {
   "cell_type": "markdown",
   "id": "be55974e",
   "metadata": {},
   "source": [
    "## Question 7\n",
    "\n",
    "7. Write a program to accept a filename from the user and print the extension of\n",
    "that.\n",
    "Sample filename: attendance.xlsx\n",
    "Output: xlsx\n",
    "\n"
   ]
  },
  {
   "cell_type": "code",
   "execution_count": 12,
   "id": "bd81a866",
   "metadata": {},
   "outputs": [
    {
     "name": "stdout",
     "output_type": "stream",
     "text": [
      "Enter the File name :Rohan.html\n",
      "File Extension : html\n"
     ]
    }
   ],
   "source": [
    "a = input(\"Enter the File name :\")\n",
    "x = a.split(\".\")\n",
    "print(\"File Extension :\", x[1])"
   ]
  },
  {
   "cell_type": "markdown",
   "id": "26c09c7b",
   "metadata": {},
   "source": [
    "## Question 8\n",
    "\n",
    "8. Write a program to print all even numbers from the numbers list given below\n",
    "in the same order and stop the printing if any numbers that come after 449 in\n",
    "the sequence.\n",
    "numbers = [1386, 462, 47, 418, 907, 344, 236, 375, 823, 566, 597,\n",
    "978, 328, 615, 953, 345, 1390, 162, 758, 219, 918, 237, 412, 566,\n",
    "449, 248, 866, 950, 626, 949, 687, 217, 815, 67, 104, 58, 512, 24]\n",
    "\n",
    "\n"
   ]
  },
  {
   "cell_type": "code",
   "execution_count": 11,
   "id": "09a884ca",
   "metadata": {},
   "outputs": [
    {
     "name": "stdout",
     "output_type": "stream",
     "text": [
      "1386\n",
      "462\n",
      "418\n",
      "344\n",
      "236\n",
      "566\n",
      "978\n",
      "328\n",
      "1390\n",
      "162\n",
      "758\n",
      "918\n",
      "412\n",
      "566\n"
     ]
    }
   ],
   "source": [
    "numbers = [1386, 462, 47, 418, 907, 344, 236, 375, 823, 566, 597,\n",
    "978, 328, 615, 953, 345, 1390, 162, 758, 219, 918, 237, 412, 566,\n",
    "449, 248, 866, 950, 626, 949, 687, 217, 815, 67, 104, 58, 512, 24]\n",
    "for a in numbers:\n",
    "    if a == 449: \n",
    "        break\n",
    "    elif a%2 == 0:\n",
    "        print(a)\n",
    "\n",
    "    "
   ]
  },
  {
   "cell_type": "markdown",
   "id": "c9bf2639",
   "metadata": {},
   "source": [
    "## Question 9\n",
    "\n",
    "\n",
    "9. Write a program to print all the colors from color_list_1 which are not present\n",
    "in color_list_2.\n",
    "Test Data:\n",
    "color_list_1 = [\"White\", \"Black\", \"Red\"]\n",
    "color_list_2 = [\"Red\", \"Green\"]\n",
    "Expected Output:\n",
    "Black\n",
    "White\n",
    "\n"
   ]
  },
  {
   "cell_type": "code",
   "execution_count": 15,
   "id": "cad12ad0",
   "metadata": {},
   "outputs": [
    {
     "name": "stdout",
     "output_type": "stream",
     "text": [
      "White\n",
      "Black\n"
     ]
    }
   ],
   "source": [
    "color_list_1 = [\"White\", \"Black\", \"Red\"]\n",
    "color_list_2 = [\"Red\", \"Green\"]\n",
    "\n",
    "for color in color_list_1:\n",
    "    if color not in color_list_2:\n",
    "        print(color)"
   ]
  },
  {
   "cell_type": "markdown",
   "id": "51db95a0",
   "metadata": {},
   "source": [
    "## Question 10\n",
    "\n",
    "10.Write a program that maps a list of words into a list of integers representing\n",
    "the lengths of the corresponding words."
   ]
  },
  {
   "cell_type": "code",
   "execution_count": 16,
   "id": "aaf3cc26",
   "metadata": {},
   "outputs": [
    {
     "name": "stdout",
     "output_type": "stream",
     "text": [
      "['apple', 'banana', 'orange', 'grapefruit']\n",
      "5 6 6 10 \n"
     ]
    }
   ],
   "source": [
    "words = [\"apple\", \"banana\", \"orange\", \"grapefruit\"]\n",
    "l = \"\"\n",
    "for x in words:\n",
    "    l+=str(len(x))+\" \"\n",
    "    \n",
    "print(words)\n",
    "print(l)"
   ]
  },
  {
   "cell_type": "markdown",
   "id": "7cb7d1f9",
   "metadata": {},
   "source": [
    "## Question 11\n",
    "\n",
    "11. Write a program that takes a phrase as a user input and then prints the\n",
    "corresponding acronym."
   ]
  },
  {
   "cell_type": "code",
   "execution_count": 17,
   "id": "c65d050e",
   "metadata": {},
   "outputs": [
    {
     "name": "stdout",
     "output_type": "stream",
     "text": [
      "ehter the phrase : Rohan Borse\n",
      "RB\n"
     ]
    }
   ],
   "source": [
    "a = input(\"ehter the phrase : \")\n",
    "acc = \"\"\n",
    "x = a.split()\n",
    "for s in x:\n",
    "    acc += s[0]\n",
    "print(acc)\n"
   ]
  },
  {
   "cell_type": "markdown",
   "id": "e43aac4c",
   "metadata": {},
   "source": [
    "## Question 12\n",
    "\n",
    "12.Write a program to read a multi word string and print all the words in\n",
    "alphabetical order."
   ]
  },
  {
   "cell_type": "code",
   "execution_count": 18,
   "id": "2498a702",
   "metadata": {},
   "outputs": [
    {
     "name": "stdout",
     "output_type": "stream",
     "text": [
      "['Arjun', 'Parth', 'Rohan', 'Sanu', 'Vicky']\n"
     ]
    }
   ],
   "source": [
    "list = [\"Rohan\",\"Arjun\",\"Sanu\",\"Parth\",\"Vicky\"]\n",
    "list.sort()\n",
    "print(list)"
   ]
  },
  {
   "cell_type": "markdown",
   "id": "76d3292f",
   "metadata": {},
   "source": [
    "## Question 13\n",
    "\n",
    "13.Write a program to check whether the given number is a perfect number or\n",
    "not. A number is called a perfect number if the sum of the factors of that\n",
    "number is equal to the same number. Example: 6 = 1 + 2 + 3"
   ]
  },
  {
   "cell_type": "code",
   "execution_count": 21,
   "id": "83439abb",
   "metadata": {},
   "outputs": [
    {
     "name": "stdout",
     "output_type": "stream",
     "text": [
      "Enter the no. :6\n",
      "6  is perfect number \n"
     ]
    }
   ],
   "source": [
    "num = int(input (\"Enter the no. :\"))\n",
    "factors = []\n",
    "for i in range(1, num):\n",
    "    if num % i == 0:\n",
    "        factors.append(i)\n",
    "if sum(factors) == num:\n",
    "    print(num,\" is perfect number \")\n",
    "else:\n",
    "    print(num , \" is not perfect number\")"
   ]
  },
  {
   "cell_type": "markdown",
   "id": "8a31449b",
   "metadata": {},
   "source": [
    "## Question 14\n",
    "\n",
    "14. Write a program to check whether a number can be expanded as the sum of\n",
    "two prime numbers.\n",
    "For example, the number 9 can be expanded as two prime numbers 2 and 7\n",
    "9 = 2 + 7."
   ]
  },
  {
   "cell_type": "code",
   "execution_count": 20,
   "id": "ad670a67",
   "metadata": {},
   "outputs": [
    {
     "name": "stdout",
     "output_type": "stream",
     "text": [
      "Enter the no : 9\n",
      "2 7\n"
     ]
    }
   ],
   "source": [
    "def check_prime(n):\n",
    "    count = 0\n",
    "    for x in range(2, int(n/2)+1):\n",
    "        if(n%x==0):\n",
    "            return False\n",
    "    return True\n",
    "    \n",
    "a = int(input(\"Enter the no : \"))\n",
    "n1=0; n2=0\n",
    "for x in range(2, int(a/2)+1):\n",
    "    if(check_prime(x)):\n",
    "        n1=x\n",
    "        n2=a-x\n",
    "        if(check_prime(n2)):\n",
    "            print(n1, n2)\n"
   ]
  }
 ],
 "metadata": {
  "kernelspec": {
   "display_name": "Python 3 (ipykernel)",
   "language": "python",
   "name": "python3"
  },
  "language_info": {
   "codemirror_mode": {
    "name": "ipython",
    "version": 3
   },
   "file_extension": ".py",
   "mimetype": "text/x-python",
   "name": "python",
   "nbconvert_exporter": "python",
   "pygments_lexer": "ipython3",
   "version": "3.10.9"
  }
 },
 "nbformat": 4,
 "nbformat_minor": 5
}
