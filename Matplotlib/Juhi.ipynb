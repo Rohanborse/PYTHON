{
 "cells": [
  {
   "cell_type": "code",
   "execution_count": 6,
   "id": "0d8cc653",
   "metadata": {},
   "outputs": [
    {
     "ename": "ModuleNotFoundError",
     "evalue": "No module named 'chart_studio'",
     "output_type": "error",
     "traceback": [
      "\u001b[1;31m---------------------------------------------------------------------------\u001b[0m",
      "\u001b[1;31mModuleNotFoundError\u001b[0m                       Traceback (most recent call last)",
      "Cell \u001b[1;32mIn[6], line 5\u001b[0m\n\u001b[0;32m      3\u001b[0m \u001b[38;5;28;01mimport\u001b[39;00m \u001b[38;5;21;01mplotly\u001b[39;00m\u001b[38;5;21;01m.\u001b[39;00m\u001b[38;5;21;01mexpress\u001b[39;00m \u001b[38;5;28;01mas\u001b[39;00m \u001b[38;5;21;01mpx\u001b[39;00m\n\u001b[0;32m      4\u001b[0m \u001b[38;5;28;01mimport\u001b[39;00m \u001b[38;5;21;01mpandas\u001b[39;00m \u001b[38;5;28;01mas\u001b[39;00m \u001b[38;5;21;01mpd\u001b[39;00m\n\u001b[1;32m----> 5\u001b[0m \u001b[38;5;28;01mimport\u001b[39;00m \u001b[38;5;21;01mchart_studio\u001b[39;00m\u001b[38;5;21;01m.\u001b[39;00m\u001b[38;5;21;01mplotly\u001b[39;00m \u001b[38;5;28;01mas\u001b[39;00m \u001b[38;5;21;01mpy\u001b[39;00m\n\u001b[0;32m      7\u001b[0m \u001b[38;5;28;01mdef\u001b[39;00m \u001b[38;5;21mget_zvalue\u001b[39m(a, b, x, y):\n\u001b[0;32m      8\u001b[0m     \u001b[38;5;124;03m\"\"\"\u001b[39;00m\n\u001b[0;32m      9\u001b[0m \u001b[38;5;124;03m    Finds the roots of the polynomial in z\u001b[39;00m\n\u001b[0;32m     10\u001b[0m \u001b[38;5;124;03m    for given values of\u001b[39;00m\n\u001b[0;32m     11\u001b[0m \u001b[38;5;124;03m    a, b, x, y.\u001b[39;00m\n\u001b[0;32m     12\u001b[0m \u001b[38;5;124;03m    \"\"\"\u001b[39;00m\n",
      "\u001b[1;31mModuleNotFoundError\u001b[0m: No module named 'chart_studio'"
     ]
    }
   ],
   "source": [
    "import plotly.graph_objects as go\n",
    "import numpy as np\n",
    "import plotly.express as px\n",
    "import pandas as pd\n",
    "import chart_studio.plotly as py\n",
    "\n",
    "def get_zvalue(a, b, x, y):\n",
    "    \"\"\"\n",
    "    Finds the roots of the polynomial in z\n",
    "    for given values of\n",
    "    a, b, x, y.\n",
    "    \"\"\"\n",
    "    constant = x ** 2 + ((1 + b) * y) ** 2 - 1\n",
    "    c0 = constant ** 3\n",
    "    c1 = 0.0\n",
    "    c2 = 3 * (constant ** 2)\n",
    "    c3 = -(a * (y ** 2) + x ** 2)\n",
    "    c4 = 3 * constant\n",
    "    c5 = 0.0\n",
    "    c6 = 1.0\n",
    "\n",
    "    coefficients = [c6, c5, c4, c3, c2, c1, c0]\n",
    "    rts = np.roots(coefficients)\n",
    "    z = rts[~np.iscomplex(rts)]\n",
    "\n",
    "    if len(z) > 0:\n",
    "        zreal = z.real\n",
    "        return zreal\n",
    "    else:\n",
    "        return []\n",
    "\n",
    "\n",
    "def draw_heart(a=9/200, b=0.01, grid=0.10, palette='viridis'):\n",
    "    \"\"\"\n",
    "    Draws the figure\n",
    "    @param a: a>0\n",
    "    @param b:\n",
    "    @param grid: sparsity of the scatter\n",
    "    @param palette: palette\n",
    "    \"\"\"\n",
    "    x = np.arange(-2, 2, grid)\n",
    "    y = x\n",
    "\n",
    "    all_triplets = []\n",
    "    for i in x:\n",
    "        for j in y:\n",
    "            zaxis = get_zvalue(a, b, i, j)\n",
    "            for k in zaxis:\n",
    "                triplet = [i, j, k]\n",
    "                all_triplets.append(triplet)\n",
    "    results = np.array(all_triplets).transpose()\n",
    "\n",
    "    # Save the triplets in a data frame\n",
    "    xaxis = results[0]\n",
    "    yaxis = results[1]\n",
    "    zaxis = results[2]\n",
    "    df = pd.DataFrame({'x': xaxis, 'y': yaxis, 'z': zaxis})\n",
    "\n",
    "    # Draw\n",
    "    fig = go.Figure(data=px.scatter_3d(df, x='x', y='y', z='z',\n",
    "                                       color='z',\n",
    "                                       color_continuous_scale=palette,\n",
    "                                       height=800, width=800,\n",
    "                                       template=\"plotly_white\"))\n",
    "\n",
    "    fig.update(layout_coloraxis_showscale=False)\n",
    "\n",
    "    fig.update_layout(\n",
    "        title='$\\hbox{A Perfect Valentine: } (x^2 + (1+b)^2y^2 +z^2 -1)^3 -(x^2 +ay^2 )z^3$',\n",
    "        scene=dict(\n",
    "            xaxis=dict(showticklabels=False, showgrid=False),\n",
    "            yaxis=dict(showticklabels=False, showgrid=False),\n",
    "            zaxis=dict(showticklabels=False, showgrid=False),\n",
    "            bgcolor='white'))\n",
    "    fig.show()\n",
    "\n",
    "draw_heart(palette='twilight')"
   ]
  },
  {
   "cell_type": "code",
   "execution_count": 2,
   "id": "e0936a81",
   "metadata": {},
   "outputs": [
    {
     "name": "stderr",
     "output_type": "stream",
     "text": [
      "C:\\Users\\Rohan Borse\\AppData\\Local\\Temp\\ipykernel_15264\\1372266438.py:3: DeprecationWarning: scipy.linspace is deprecated and will be removed in SciPy 2.0.0, use numpy.linspace instead\n",
      "  x = scipy.linspace(-2,2,1000)\n",
      "C:\\Users\\Rohan Borse\\AppData\\Local\\Temp\\ipykernel_15264\\1372266438.py:4: DeprecationWarning: scipy.sqrt is deprecated and will be removed in SciPy 2.0.0, use numpy.lib.scimath.sqrt instead\n",
      "  y1 = scipy.sqrt(1-(abs(x)-1)**2)\n",
      "C:\\Users\\Rohan Borse\\AppData\\Local\\Temp\\ipykernel_15264\\1372266438.py:5: DeprecationWarning: scipy.sqrt is deprecated and will be removed in SciPy 2.0.0, use numpy.lib.scimath.sqrt instead\n",
      "  y2 = -3*scipy.sqrt(1-(abs(x)/2)**0.5)\n"
     ]
    },
    {
     "data": {
      "image/png": "[encoded data removed]",
      "text/plain": [
       "<Figure size 640x480 with 1 Axes>"
      ]
     },
     "metadata": {},
     "output_type": "display_data"
    }
   ],
   "source": [
    "import pylab\n",
    "import scipy\n",
    "x = scipy.linspace(-2,2,1000)\n",
    "y1 = scipy.sqrt(1-(abs(x)-1)**2)\n",
    "y2 = -3*scipy.sqrt(1-(abs(x)/2)**0.5)\n",
    "pylab.fill_between(x, y1, color='red')\n",
    "pylab.fill_between(x, y2, color='red')\n",
    "pylab.xlim([-2.5, 2.5])\n",
    "pylab.text(0, -0.4, 'Good Morning I LOVE YOU JUHI', fontsize=15, fontweight='bold',\n",
    "           color='black', horizontalalignment='center')\n",
    "pylab.savefig('heart.png')"
   ]
  },
  {
   "cell_type": "code",
   "execution_count": null,
   "id": "3020812a",
   "metadata": {},
   "outputs": [],
   "source": []
  }
 ],
 "metadata": {
  "kernelspec": {
   "display_name": "Python 3 (ipykernel)",
   "language": "python",
   "name": "python3"
  },
  "language_info": {
   "codemirror_mode": {
    "name": "ipython",
    "version": 3
   },
   "file_extension": ".py",
   "mimetype": "text/x-python",
   "name": "python",
   "nbconvert_exporter": "python",
   "pygments_lexer": "ipython3",
   "version": "3.10.9"
  }
 },
 "nbformat": 4,
 "nbformat_minor": 5
}
