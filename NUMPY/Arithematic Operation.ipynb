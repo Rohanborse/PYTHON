{
 "cells": [
  {
   "cell_type": "markdown",
   "id": "1daa352c",
   "metadata": {},
   "source": [
    "# Arithematic Operation"
   ]
  },
  {
   "cell_type": "code",
   "execution_count": 19,
   "id": "bbe9e123",
   "metadata": {},
   "outputs": [
    {
     "name": "stdout",
     "output_type": "stream",
     "text": [
      "[ 4  9 11 99  7]\n"
     ]
    }
   ],
   "source": [
    "## For 1 D Array\n",
    "\n",
    "import numpy as np\n",
    "var = np.array([1,6,8,96,4])\n",
    "\n",
    "varadd = (var + 3)\n",
    "\n",
    "print(varadd)"
   ]
  },
  {
   "cell_type": "code",
   "execution_count": 4,
   "id": "cd59c6d0",
   "metadata": {},
   "outputs": [
    {
     "name": "stdout",
     "output_type": "stream",
     "text": [
      "[1 9 4 9]\n"
     ]
    }
   ],
   "source": [
    "## Addition\n",
    "var1 = np.array([1,3,2,3])\n",
    "var2 = np.array([1,3,2,3])\n",
    "\n",
    "varadd = var1+var2\n",
    "\n",
    "print(varadd)"
   ]
  },
  {
   "cell_type": "code",
   "execution_count": 5,
   "id": "fa43cd9b",
   "metadata": {},
   "outputs": [
    {
     "name": "stdout",
     "output_type": "stream",
     "text": [
      "[0 0 0 0]\n"
     ]
    }
   ],
   "source": [
    "## Substraction\n",
    "var1 = np.array([1,3,2,3])\n",
    "var2 = np.array([1,3,2,3])\n",
    "\n",
    "varadd = var1-var2\n",
    "\n",
    "print(varadd)"
   ]
  },
  {
   "cell_type": "code",
   "execution_count": 6,
   "id": "2e88857a",
   "metadata": {},
   "outputs": [
    {
     "name": "stdout",
     "output_type": "stream",
     "text": [
      "[1 9 4 9]\n"
     ]
    }
   ],
   "source": [
    "## multiplication\n",
    "var1 = np.array([1,3,2,3])\n",
    "var2 = np.array([1,3,2,3])\n",
    "\n",
    "varadd = var1*var2\n",
    "\n",
    "print(varadd)"
   ]
  },
  {
   "cell_type": "code",
   "execution_count": 11,
   "id": "d9cda5be",
   "metadata": {},
   "outputs": [
    {
     "name": "stdout",
     "output_type": "stream",
     "text": [
      "int32\n",
      "[1. 1. 1. 1.]\n",
      "float64\n"
     ]
    }
   ],
   "source": [
    "## Division\n",
    "var1 = np.array([1,3,2,3])\n",
    "var2 = np.array([1,3,2,3])\n",
    "varadd = var1/var2\n",
    "print(var1.dtype)\n",
    "print(varadd)\n",
    "print(varadd.dtype)"
   ]
  },
  {
   "cell_type": "markdown",
   "id": "d200a1cb",
   "metadata": {},
   "source": [
    "## Arithematic Operation by  Functions()"
   ]
  },
  {
   "cell_type": "markdown",
   "id": "ef3a4139",
   "metadata": {},
   "source": [
    " Addition  :-       np.add(a,b)\n",
    " \n",
    " Substraction :-    np.subtract(a,b)\n",
    " \n",
    " multiplication :-   np.multiply(a,b)\n",
    " \n",
    " Division :-          np.divide(a,b)\n",
    " \n",
    " Modulus :-        np.mod(a,b)\n",
    " \n",
    " power :-           np.power(a,b)\n",
    " \n",
    " \n",
    " Reciprocal :-     np.reciprocal(a)"
   ]
  },
  {
   "cell_type": "code",
   "execution_count": 13,
   "id": "86fcda07",
   "metadata": {},
   "outputs": [
    {
     "name": "stdout",
     "output_type": "stream",
     "text": [
      "[2 6 4 6]\n"
     ]
    }
   ],
   "source": [
    "## Addition\n",
    "var1 = np.array([1,3,2,3])\n",
    "var2 = np.array([1,3,2,3])\n",
    "\n",
    "varadd = np.add(var1,var2)\n",
    "\n",
    "print(varadd)"
   ]
  },
  {
   "cell_type": "code",
   "execution_count": 15,
   "id": "9c52ef3b",
   "metadata": {},
   "outputs": [
    {
     "name": "stdout",
     "output_type": "stream",
     "text": [
      "[0 0 0 0]\n"
     ]
    }
   ],
   "source": [
    "## Substaction\n",
    "var1 = np.array([1,3,2,3])\n",
    "var2 = np.array([1,3,2,3])\n",
    "\n",
    "varsub = np.subtract(var1,var2)\n",
    "\n",
    "print(varadd)"
   ]
  },
  {
   "cell_type": "markdown",
   "id": "86408d4b",
   "metadata": {},
   "source": [
    "\n",
    "## For 2D Array\n"
   ]
  },
  {
   "cell_type": "code",
   "execution_count": 21,
   "id": "3b057410",
   "metadata": {},
   "outputs": [
    {
     "name": "stdout",
     "output_type": "stream",
     "text": [
      "[[ 2  6  4  6]\n",
      " [ 4  8 12 14]]\n"
     ]
    }
   ],
   "source": [
    "var1 = np.array([[1,3,2,3],[2,4,6,7]])\n",
    "var2 = np.array([[1,3,2,3],[2,4,6,7]])\n",
    "\n",
    "varadd = var1+var2\n",
    "\n",
    "print(varadd)"
   ]
  },
  {
   "cell_type": "code",
   "execution_count": 22,
   "id": "872127a7",
   "metadata": {},
   "outputs": [
    {
     "name": "stdout",
     "output_type": "stream",
     "text": [
      "[[ 2  6  4  6]\n",
      " [ 4  8 12 14]]\n"
     ]
    }
   ],
   "source": [
    "var1 = np.array([[1,3,2,3],[2,4,6,7]])\n",
    "var2 = np.array([[1,3,2,3],[2,4,6,7]])\n",
    "\n",
    "varadd = np.add(var1,var2)\n",
    "\n",
    "print(varadd)"
   ]
  },
  {
   "cell_type": "code",
   "execution_count": 26,
   "id": "61a53768",
   "metadata": {},
   "outputs": [
    {
     "name": "stdout",
     "output_type": "stream",
     "text": [
      "[1 0 0 1]\n"
     ]
    }
   ],
   "source": [
    "a = np.array([1,4,6,1])\n",
    "\n",
    "var = np.reciprocal(a)\n",
    "print(var)"
   ]
  },
  {
   "cell_type": "code",
   "execution_count": null,
   "id": "a137fcd6",
   "metadata": {},
   "outputs": [],
   "source": []
  }
 ],
 "metadata": {
  "kernelspec": {
   "display_name": "Python 3 (ipykernel)",
   "language": "python",
   "name": "python3"
  },
  "language_info": {
   "codemirror_mode": {
    "name": "ipython",
    "version": 3
   },
   "file_extension": ".py",
   "mimetype": "text/x-python",
   "name": "python",
   "nbconvert_exporter": "python",
   "pygments_lexer": "ipython3",
   "version": "3.10.9"
  }
 },
 "nbformat": 4,
 "nbformat_minor": 5
}
