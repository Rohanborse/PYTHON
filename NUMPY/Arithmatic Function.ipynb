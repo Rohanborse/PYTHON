{
 "cells": [
  {
   "cell_type": "markdown",
   "id": "aa23a03e",
   "metadata": {},
   "source": [
    "## Arithmatic Function"
   ]
  },
  {
   "cell_type": "markdown",
   "id": "a41adbe2",
   "metadata": {},
   "source": [
    "to cheak min of array :- np.min()\n",
    "    \n",
    "to cheak max of array :- np.max()\n",
    "    \n",
    "to cheak min value's index for array :- np.argmin()\n",
    "    \n",
    "to cheak max value's index for array :- np.argmax()     \n"
   ]
  },
  {
   "cell_type": "code",
   "execution_count": 6,
   "id": "d1192670",
   "metadata": {},
   "outputs": [
    {
     "name": "stdout",
     "output_type": "stream",
     "text": [
      "min :  1   index :  0\n",
      "max :  9   index :  4\n"
     ]
    }
   ],
   "source": [
    "import numpy as np\n",
    "\n",
    "var = np.array([1,7,5,8,9,3,5,6])\n",
    "print(\"min : \",np.min(var),\"  index : \",np.argmin(var) )\n",
    "print(\"max : \",np.max(var),\"  index : \",np.argmax(var) )"
   ]
  },
  {
   "cell_type": "markdown",
   "id": "ee6f49ce",
   "metadata": {},
   "source": [
    "__________________________________________________\n",
    "axis = 0 :-  coloum\n",
    "\n",
    "axis = 1 :-  Row"
   ]
  },
  {
   "cell_type": "code",
   "execution_count": 9,
   "id": "394050fc",
   "metadata": {},
   "outputs": [
    {
     "name": "stdout",
     "output_type": "stream",
     "text": [
      "[1 8 6]\n",
      "\n",
      "[9 9]\n"
     ]
    }
   ],
   "source": [
    "var = np.array([[1,9,6],[6,8,9]])\n",
    "print(np.min(var,axis=0))\n",
    "print()\n",
    "print(np.max(var,axis=1))"
   ]
  },
  {
   "cell_type": "code",
   "execution_count": 11,
   "id": "c9857691",
   "metadata": {},
   "outputs": [
    {
     "name": "stdout",
     "output_type": "stream",
     "text": [
      "[4. 5. 7.]\n"
     ]
    }
   ],
   "source": [
    "## Squre root\n",
    "var = np.array([16,25,49])\n",
    "print(np.sqrt(var))"
   ]
  },
  {
   "cell_type": "code",
   "execution_count": 14,
   "id": "1c67dc53",
   "metadata": {},
   "outputs": [
    {
     "name": "stdout",
     "output_type": "stream",
     "text": [
      "[ 0.84147098  0.14112001 -0.7568025 ]\n",
      "\n",
      "[ 0.54030231 -0.9899925  -0.65364362]\n",
      "\n",
      "[ 1.55740772 -0.14254654  1.15782128]\n"
     ]
    }
   ],
   "source": [
    "var  = np.array([1,3,4])\n",
    "print(np.sin(var))\n",
    "print()\n",
    "print(np.cos(var))\n",
    "print()\n",
    "print(np.tan(var))"
   ]
  },
  {
   "cell_type": "code",
   "execution_count": 20,
   "id": "e280191a",
   "metadata": {},
   "outputs": [
    {
     "name": "stdout",
     "output_type": "stream",
     "text": [
      "[[1 3 4]\n",
      " [2 6 9]]\n",
      "[ 1  4  8 10 16 25]\n"
     ]
    }
   ],
   "source": [
    "var  = np.array([[1,3,4],[2,6,9]])\n",
    "print(var)\n",
    "print(np.cumsum(var))"
   ]
  },
  {
   "cell_type": "code",
   "execution_count": null,
   "id": "ab0b608c",
   "metadata": {},
   "outputs": [],
   "source": []
  }
 ],
 "metadata": {
  "kernelspec": {
   "display_name": "Python 3 (ipykernel)",
   "language": "python",
   "name": "python3"
  },
  "language_info": {
   "codemirror_mode": {
    "name": "ipython",
    "version": 3
   },
   "file_extension": ".py",
   "mimetype": "text/x-python",
   "name": "python",
   "nbconvert_exporter": "python",
   "pygments_lexer": "ipython3",
   "version": "3.10.9"
  }
 },
 "nbformat": 4,
 "nbformat_minor": 5
}
