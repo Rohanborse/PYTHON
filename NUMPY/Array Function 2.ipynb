{
 "cells": [
  {
   "cell_type": "markdown",
   "id": "b4e0c793",
   "metadata": {},
   "source": [
    "## Shuffle"
   ]
  },
  {
   "cell_type": "code",
   "execution_count": 8,
   "id": "6f9c1674",
   "metadata": {},
   "outputs": [],
   "source": [
    "import numpy as np"
   ]
  },
  {
   "cell_type": "code",
   "execution_count": 11,
   "id": "189db22e",
   "metadata": {},
   "outputs": [
    {
     "name": "stdout",
     "output_type": "stream",
     "text": [
      "[6 5 2 4 1 3]\n"
     ]
    }
   ],
   "source": [
    "var = np.array([1,2,3,4,5,6])\n",
    "np.random.shuffle(var)\n",
    "print(var)"
   ]
  },
  {
   "cell_type": "markdown",
   "id": "aa09eeb4",
   "metadata": {},
   "source": [
    "## unique"
   ]
  },
  {
   "cell_type": "code",
   "execution_count": 33,
   "id": "e7717fec",
   "metadata": {},
   "outputs": [
    {
     "name": "stdout",
     "output_type": "stream",
     "text": [
      "(array([  1,   2,   3,   5,   6,   8,  45,  85, 745]), array([2, 2, 2, 1, 1, 2, 2, 1, 1], dtype=int64))\n"
     ]
    }
   ],
   "source": [
    "np.random.seed(12)\n",
    "var = np.array([1,1,2,2,3,3,6,5,45,8,8,45,745,85,])\n",
    "x = np.unique(var,return_counts=True) ## unique is likke set it will not repet the value and give ubiqye data\n",
    "                                            ## and Return_count will give the how many times it had repeted\n",
    "print(x)"
   ]
  },
  {
   "cell_type": "code",
   "execution_count": 34,
   "id": "dc759d5d",
   "metadata": {},
   "outputs": [
    {
     "data": {
      "text/plain": [
       "array([25, 16, 32, 67, 55, 32, 41, 78, 49, 54])"
      ]
     },
     "execution_count": 34,
     "metadata": {},
     "output_type": "execute_result"
    }
   ],
   "source": [
    "np.random.seed(17)\n",
    "var = np.array([x for x in np.random.randint(10, 90, 10)])\n",
    "var"
   ]
  },
  {
   "cell_type": "markdown",
   "id": "97c1f090",
   "metadata": {},
   "source": [
    "## Resize"
   ]
  },
  {
   "cell_type": "code",
   "execution_count": 39,
   "id": "6ebc82c1",
   "metadata": {},
   "outputs": [
    {
     "name": "stdout",
     "output_type": "stream",
     "text": [
      "[[1 2]\n",
      " [6 8]\n",
      " [8 5]]\n"
     ]
    }
   ],
   "source": [
    "var2= np.array([1,2,6,8,8,5,5,47,6])\n",
    "\n",
    "y = np.resize(var2,(3,2))\n",
    "print(y)"
   ]
  },
  {
   "cell_type": "markdown",
   "id": "2c60c821",
   "metadata": {},
   "source": [
    "## flatten & Ravel"
   ]
  },
  {
   "cell_type": "code",
   "execution_count": 45,
   "id": "1bd146e4",
   "metadata": {},
   "outputs": [
    {
     "name": "stdout",
     "output_type": "stream",
     "text": [
      "[[ 1  2  6]\n",
      " [ 8  8  5]\n",
      " [ 5 47  6]]\n",
      "\n",
      "[ 1  2  6  8  8  5  5 47  6]\n",
      "\n",
      "[ 1  2  6  8  8  5  5 47  6]\n"
     ]
    }
   ],
   "source": [
    "var2= np.array([1,2,6,8,8,5,5,47,6])\n",
    "y = np.resize(var2,(3,3))\n",
    "print(y)\n",
    "print()\n",
    "print(y.flatten())\n",
    "print()\n",
    "print(np.ravel(y))"
   ]
  },
  {
   "cell_type": "code",
   "execution_count": null,
   "id": "63da7a61",
   "metadata": {},
   "outputs": [],
   "source": []
  }
 ],
 "metadata": {
  "kernelspec": {
   "display_name": "Python 3 (ipykernel)",
   "language": "python",
   "name": "python3"
  },
  "language_info": {
   "codemirror_mode": {
    "name": "ipython",
    "version": 3
   },
   "file_extension": ".py",
   "mimetype": "text/x-python",
   "name": "python",
   "nbconvert_exporter": "python",
   "pygments_lexer": "ipython3",
   "version": "3.10.9"
  }
 },
 "nbformat": 4,
 "nbformat_minor": 5
}
