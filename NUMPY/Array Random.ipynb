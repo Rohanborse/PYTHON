{
 "cells": [
  {
   "cell_type": "markdown",
   "id": "9eb8517d",
   "metadata": {},
   "source": [
    "# Array"
   ]
  },
  {
   "cell_type": "code",
   "execution_count": 5,
   "id": "aa9c6e01",
   "metadata": {},
   "outputs": [
    {
     "name": "stdout",
     "output_type": "stream",
     "text": [
      "[1 2 5 6]\n",
      "<class 'numpy.ndarray'>\n"
     ]
    }
   ],
   "source": [
    "import numpy as np \n",
    "a  = np.array([1,2,5,6])\n",
    "print(a)\n",
    "print(type(a))"
   ]
  },
  {
   "cell_type": "markdown",
   "id": "cdcad9d9",
   "metadata": {},
   "source": [
    "Take user input and make array"
   ]
  },
  {
   "cell_type": "code",
   "execution_count": 10,
   "id": "e56760ec",
   "metadata": {},
   "outputs": [
    {
     "name": "stdout",
     "output_type": "stream",
     "text": [
      "Enter : 4\n",
      "Enter : 5\n",
      "Enter : 7\n",
      "Enter : 3\n",
      "[4 5 7 3]\n"
     ]
    }
   ],
   "source": [
    "l = []\n",
    "for i in range (1,5):\n",
    "    int_1 = int(input(\"Enter : \"))\n",
    "    l.append(int_1)\n",
    "print(np.array(l))"
   ]
  },
  {
   "cell_type": "markdown",
   "id": "869dc874",
   "metadata": {},
   "source": [
    "Types of Array : \n",
    "\n",
    "1D array\n",
    "\n",
    "2D array \n",
    "\n",
    "3D array\n",
    "\n",
    "High Dimensional Array\n",
    "\n",
    "to find the dimension use {ndim}"
   ]
  },
  {
   "cell_type": "markdown",
   "id": "f3575107",
   "metadata": {},
   "source": [
    "2d Array :-"
   ]
  },
  {
   "cell_type": "code",
   "execution_count": 13,
   "id": "760bff2a",
   "metadata": {},
   "outputs": [
    {
     "name": "stdout",
     "output_type": "stream",
     "text": [
      "[[ 1 46  3 56]\n",
      " [ 4  5  7  3]]\n",
      "2\n"
     ]
    }
   ],
   "source": [
    "arr2 = np.array([[1,46,3,56,],[4,5,7,3]])\n",
    "print(arr2)\n",
    "print(arr2.ndim)"
   ]
  },
  {
   "cell_type": "markdown",
   "id": "61a1a8d5",
   "metadata": {},
   "source": [
    "3d Array :-"
   ]
  },
  {
   "cell_type": "code",
   "execution_count": 16,
   "id": "ade5f099",
   "metadata": {},
   "outputs": [
    {
     "name": "stdout",
     "output_type": "stream",
     "text": [
      "[[[2 5 3]\n",
      "  [6 8 3]\n",
      "  [4 6 8]]]\n",
      "3\n"
     ]
    }
   ],
   "source": [
    "arr3 = np.array([[[2,5,3],[6,8,3],[4,6,8]]])\n",
    "print(arr3)\n",
    "print(arr3.ndim)"
   ]
  },
  {
   "cell_type": "markdown",
   "id": "5d669187",
   "metadata": {},
   "source": [
    "N dimensional Array :-"
   ]
  },
  {
   "cell_type": "markdown",
   "id": "efb1c95b",
   "metadata": {},
   "source": [
    " max limit of    [ndmin]   is 32 mins by ndmin we can only create          [32 Dimensional array]"
   ]
  },
  {
   "cell_type": "code",
   "execution_count": 20,
   "id": "68a400e4",
   "metadata": {},
   "outputs": [
    {
     "name": "stdout",
     "output_type": "stream",
     "text": [
      "[[[[[[[[[[[[[[[[[[[[[[[[[[[[[[[[3 5 7 5]]]]]]]]]]]]]]]]]]]]]]]]]]]]]]]]\n"
     ]
    }
   ],
   "source": [
    "arn = np.array([3,5,7,5],ndmin = 32)\n",
    "print(arn)"
   ]
  },
  {
   "cell_type": "markdown",
   "id": "7ce7eaf6",
   "metadata": {},
   "source": [
    "# Special Type of Array"
   ]
  },
  {
   "cell_type": "markdown",
   "id": "55ec00ab",
   "metadata": {},
   "source": [
    "Array filled with 0\n",
    "\n",
    "\n",
    "Array filled with 1\n",
    "\n",
    "\n",
    "Empty array\n",
    "\n",
    "\n",
    "An Array with range element \n",
    "\n",
    "\n",
    "Array digonal element filled with 1\n",
    "\n",
    "\n",
    "create Array with Special interval\n",
    "\n"
   ]
  },
  {
   "cell_type": "markdown",
   "id": "9ea3992f",
   "metadata": {},
   "source": [
    "## Array filled with Zero "
   ]
  },
  {
   "cell_type": "code",
   "execution_count": 3,
   "id": "86f08fcd",
   "metadata": {},
   "outputs": [
    {
     "name": "stdout",
     "output_type": "stream",
     "text": [
      "[0. 0. 0. 0.]\n",
      "\n",
      "[[0. 0. 0. 0.]\n",
      " [0. 0. 0. 0.]\n",
      " [0. 0. 0. 0.]]\n"
     ]
    }
   ],
   "source": [
    "import numpy as np\n",
    "ar_zero = np.zeros(4)\n",
    "ar_zero1 = np.zeros((3,4))\n",
    "print(ar_zero)\n",
    "print()\n",
    "print(ar_zero1)"
   ]
  },
  {
   "cell_type": "markdown",
   "id": "6bc8a625",
   "metadata": {},
   "source": [
    "## Array filled with 1"
   ]
  },
  {
   "cell_type": "code",
   "execution_count": 7,
   "id": "498f75f4",
   "metadata": {},
   "outputs": [
    {
     "name": "stdout",
     "output_type": "stream",
     "text": [
      "[1. 1. 1. 1.]\n",
      "\n",
      "[[1. 1. 1. 1.]\n",
      " [1. 1. 1. 1.]\n",
      " [1. 1. 1. 1.]]\n"
     ]
    }
   ],
   "source": [
    "ar_one = np.ones(4)\n",
    "ar_one1 = np.ones((3,4))\n",
    "print(ar_one)\n",
    "print()\n",
    "print(ar_one1)"
   ]
  },
  {
   "cell_type": "markdown",
   "id": "be6fd4d6",
   "metadata": {},
   "source": [
    "## Empty Array \n",
    "\n",
    "empty array contains data of the previous array when we print it"
   ]
  },
  {
   "cell_type": "code",
   "execution_count": 5,
   "id": "6b9451bd",
   "metadata": {},
   "outputs": [
    {
     "name": "stdout",
     "output_type": "stream",
     "text": [
      "[1. 1. 1. 1.]\n",
      "\n",
      "[[1. 1. 1. 1.]\n",
      " [1. 1. 1. 1.]\n",
      " [1. 1. 1. 1.]]\n"
     ]
    }
   ],
   "source": [
    "ar_em = np.empty(4)\n",
    "ar_em1 = np.empty((3,4))\n",
    "print(ar_em)\n",
    "print()\n",
    "print(ar_em1)"
   ]
  },
  {
   "cell_type": "markdown",
   "id": "7bb544dd",
   "metadata": {},
   "source": [
    "## Range Array\n",
    "\n",
    "we use np.arrange in the range array "
   ]
  },
  {
   "cell_type": "code",
   "execution_count": 10,
   "id": "fd81e2f8",
   "metadata": {},
   "outputs": [
    {
     "name": "stdout",
     "output_type": "stream",
     "text": [
      "[4 5 6 7]\n",
      "[0 1 2 3 4]\n"
     ]
    }
   ],
   "source": [
    "ar_rn = np.arange(4,8)\n",
    "print(ar_rn)\n",
    "ar_rn1 = np.arange(5)\n",
    "print(ar_rn1)"
   ]
  },
  {
   "cell_type": "markdown",
   "id": "9587b203",
   "metadata": {},
   "source": [
    "## Array with digonal element filled with 1\n",
    "\n",
    "Identity matrix\n",
    "\n",
    "np.eye use to create the digonal Array\n",
    "\n"
   ]
  },
  {
   "cell_type": "code",
   "execution_count": 11,
   "id": "0a0f40c3",
   "metadata": {},
   "outputs": [
    {
     "name": "stdout",
     "output_type": "stream",
     "text": [
      "[[1. 0. 0.]\n",
      " [0. 1. 0.]\n",
      " [0. 0. 1.]]\n"
     ]
    }
   ],
   "source": [
    "ar_di = np.eye(3)\n",
    "print(ar_di)\n"
   ]
  },
  {
   "cell_type": "code",
   "execution_count": 12,
   "id": "72a07a21",
   "metadata": {},
   "outputs": [
    {
     "name": "stdout",
     "output_type": "stream",
     "text": [
      "[[1. 0. 0. 0. 0.]\n",
      " [0. 1. 0. 0. 0.]\n",
      " [0. 0. 1. 0. 0.]]\n"
     ]
    }
   ],
   "source": [
    "ar_di = np.eye(3,5)\n",
    "print(ar_di)"
   ]
  },
  {
   "cell_type": "markdown",
   "id": "cad5e758",
   "metadata": {},
   "source": [
    "## lineSpace"
   ]
  },
  {
   "cell_type": "code",
   "execution_count": 17,
   "id": "4ff3d2fb",
   "metadata": {},
   "outputs": [
    {
     "name": "stdout",
     "output_type": "stream",
     "text": [
      "[ 0.  5. 10. 15. 20.]\n"
     ]
    }
   ],
   "source": [
    "ar_ls = np.linspace(0,20,num=5)\n",
    "print(ar_ls)"
   ]
  },
  {
   "cell_type": "code",
   "execution_count": 20,
   "id": "cc2cb0e5",
   "metadata": {},
   "outputs": [
    {
     "name": "stdout",
     "output_type": "stream",
     "text": [
      "2nd element on 1st row:  9\n"
     ]
    }
   ],
   "source": [
    "arr = np.array([[1,2,3,4,5], [6,7,8,9,10]])\n",
    "\n",
    "print('2nd element on 1st row: ', arr[1, 3])"
   ]
  },
  {
   "cell_type": "code",
   "execution_count": 22,
   "id": "a78ccc4e",
   "metadata": {},
   "outputs": [
    {
     "name": "stdout",
     "output_type": "stream",
     "text": [
      "[[[ 1  2  3]\n",
      "  [ 4  5  6]]\n",
      "\n",
      " [[ 7  8  9]\n",
      "  [10 11 12]]]\n",
      "6\n"
     ]
    }
   ],
   "source": [
    "arr = np.array([[[1, 2, 3], [4, 5, 6]], [[7, 8, 9], [10, 11, 12]]])\n",
    "print(arr)\n",
    "print(arr[0, 1, 2])\n"
   ]
  },
  {
   "cell_type": "code",
   "execution_count": 23,
   "id": "5c926cc5",
   "metadata": {},
   "outputs": [
    {
     "name": "stdout",
     "output_type": "stream",
     "text": [
      "[2 3 4 5]\n"
     ]
    }
   ],
   "source": [
    "import numpy as np\n",
    "\n",
    "arr = np.array([1, 2, 3, 4, 5, 6, 7])\n",
    "\n",
    "print(arr[1:5])"
   ]
  },
  {
   "cell_type": "markdown",
   "id": "3e275004",
   "metadata": {},
   "source": [
    "## Random no.\n",
    "\n",
    "rand() :- this function genrate value between  0 to 1\n",
    "\n",
    "randn() :- this function genrate the value closer to the 0 . and the value will be positive or negative\n",
    "\n",
    "ranf() :- this function genrate the value between 0.0 to 1.0 .but this function  doesnot include the 1.0 \n",
    "\n",
    "          this is half open function\n",
    "          \n",
    "randint() :- this function genrate the value between given no. \n",
    "\n"
   ]
  },
  {
   "cell_type": "code",
   "execution_count": 25,
   "id": "40e86a58",
   "metadata": {},
   "outputs": [
    {
     "name": "stdout",
     "output_type": "stream",
     "text": [
      "[0.37645041 0.33093688 0.34861051 0.01085619 0.55761067 0.59296141]\n"
     ]
    }
   ],
   "source": [
    "## RAND() Function\n",
    "## 1D \n",
    "var = np.random.rand(6)\n",
    "print(var)"
   ]
  },
  {
   "cell_type": "code",
   "execution_count": 26,
   "id": "1653008f",
   "metadata": {},
   "outputs": [
    {
     "name": "stdout",
     "output_type": "stream",
     "text": [
      "[[0.95404782 0.61090852 0.8953352 ]\n",
      " [0.74490766 0.98757833 0.52467204]]\n"
     ]
    }
   ],
   "source": [
    "var1  = np.random.rand(2,3)\n",
    "print(var1)"
   ]
  },
  {
   "cell_type": "code",
   "execution_count": 29,
   "id": "6b939fda",
   "metadata": {},
   "outputs": [
    {
     "name": "stdout",
     "output_type": "stream",
     "text": [
      "[-1.65717144 -1.44912463 -0.40323867  0.41025486 -0.30461848]\n",
      "\n",
      "[[-1.0262887  -1.35986451  1.18576703]\n",
      " [ 2.24714242 -0.83833935  0.29088918]]\n"
     ]
    }
   ],
   "source": [
    "## randn()\n",
    "var2 = np.random.randn(5)  ## 1D\n",
    "var_2 = np.random.randn(2,3) ## 2D\n",
    "print(var2)\n",
    "print()  \n",
    "print(var_2)"
   ]
  },
  {
   "cell_type": "code",
   "execution_count": 35,
   "id": "4d876b5b",
   "metadata": {},
   "outputs": [
    {
     "name": "stdout",
     "output_type": "stream",
     "text": [
      "[0.02234546 0.3461326  0.778974   0.11833608 0.6161757 ]\n",
      "\n",
      "[[0.75123991 0.31376442 0.80475481]\n",
      " [0.91110034 0.43741441 0.62164164]]\n"
     ]
    }
   ],
   "source": [
    "## ranf()\n",
    "var3 = np.random.ranf(5)## 1D\n",
    "var_3 = np.random.ranf((2,3)) ## 2D\n",
    "print(var3)\n",
    "print()\n",
    "print(var_3)"
   ]
  },
  {
   "cell_type": "code",
   "execution_count": 44,
   "id": "26d67cd4",
   "metadata": {},
   "outputs": [
    {
     "name": "stdout",
     "output_type": "stream",
     "text": [
      "[56 89 67]\n",
      "\n",
      "[[21 16 23]\n",
      " [94 94 89]]\n"
     ]
    }
   ],
   "source": [
    " ## randint()\n",
    "var4  = np.random.randint(5,100,3) ## 1 D \n",
    "var_4 = np.random.randint(5,100,(2,3)) ## 2D\n",
    "print(var4)\n",
    "print()\n",
    "print(var_4)"
   ]
  },
  {
   "cell_type": "code",
   "execution_count": null,
   "id": "7a7b1386",
   "metadata": {},
   "outputs": [],
   "source": []
  }
 ],
 "metadata": {
  "kernelspec": {
   "display_name": "Python 3 (ipykernel)",
   "language": "python",
   "name": "python3"
  },
  "language_info": {
   "codemirror_mode": {
    "name": "ipython",
    "version": 3
   },
   "file_extension": ".py",
   "mimetype": "text/x-python",
   "name": "python",
   "nbconvert_exporter": "python",
   "pygments_lexer": "ipython3",
   "version": "3.10.9"
  }
 },
 "nbformat": 4,
 "nbformat_minor": 5
}
