{
 "cells": [
  {
   "cell_type": "markdown",
   "id": "881faae9",
   "metadata": {},
   "source": [
    "## Search"
   ]
  },
  {
   "cell_type": "code",
   "execution_count": 2,
   "id": "1117173a",
   "metadata": {},
   "outputs": [],
   "source": [
    "import numpy as np"
   ]
  },
  {
   "cell_type": "code",
   "execution_count": 4,
   "id": "ef946589",
   "metadata": {},
   "outputs": [
    {
     "name": "stdout",
     "output_type": "stream",
     "text": [
      "(array([ 1, 12], dtype=int64),)\n"
     ]
    }
   ],
   "source": [
    "var = np.array([1,2,3,4,5,6,7,8,9,11,12,13,2,14,15,16,17])\n",
    "\n",
    "print(np.where(var == 2)) ## this will give the output element index and Datatype"
   ]
  },
  {
   "cell_type": "code",
   "execution_count": 12,
   "id": "0da17404",
   "metadata": {},
   "outputs": [
    {
     "name": "stdout",
     "output_type": "stream",
     "text": [
      "(array([ 1,  3,  5,  7, 10, 12, 13, 15], dtype=int64),)\n"
     ]
    }
   ],
   "source": [
    "var = np.array([1,2,3,4,5,6,7,8,9,11,12,13,2,14,15,16,17])\n",
    "print(np.where(var % 2 == 0))"
   ]
  },
  {
   "cell_type": "markdown",
   "id": "9c3ead2d",
   "metadata": {},
   "source": [
    "# search sorted Array"
   ]
  },
  {
   "cell_type": "markdown",
   "id": "62566b9f",
   "metadata": {},
   "source": [
    "this will search for the postion where given element is to be placed"
   ]
  },
  {
   "cell_type": "code",
   "execution_count": 26,
   "id": "cc3e0fa8",
   "metadata": {},
   "outputs": [
    {
     "name": "stdout",
     "output_type": "stream",
     "text": [
      "7\n",
      "[1 2 3 5 6 7 8]\n"
     ]
    }
   ],
   "source": [
    "var_1 = np.array([1,2,3,5,6,7,8])\n",
    "a  = np.searchsorted(var_1 , 9, side=\"right\")\n",
    "print(a)\n",
    "print(var)"
   ]
  },
  {
   "cell_type": "markdown",
   "id": "731db30a",
   "metadata": {},
   "source": [
    "## Sorting of array"
   ]
  },
  {
   "cell_type": "code",
   "execution_count": 27,
   "id": "9a6078c6",
   "metadata": {},
   "outputs": [
    {
     "name": "stdout",
     "output_type": "stream",
     "text": [
      "[ 3  5  6  6  7  7  8  9  9 43 45 45 56 56 65 77]\n"
     ]
    }
   ],
   "source": [
    "var2 = np.array([6,9,65,3,45,7,9,6,43,5,7,8,56,45,77,56])  ## Integer\n",
    "print(np.sort(var2))"
   ]
  },
  {
   "cell_type": "code",
   "execution_count": 28,
   "id": "0c0a0582",
   "metadata": {},
   "outputs": [
    {
     "name": "stdout",
     "output_type": "stream",
     "text": [
      "['asdfwf' 'sdaf' 'sdrff' 'wewefdf']\n"
     ]
    }
   ],
   "source": [
    "var_2 = np.array([\"sdaf\",\"sdrff\",\"asdfwf\",\"wewefdf\",])  ## String\n",
    "print(np.sort(var_2))"
   ]
  },
  {
   "cell_type": "code",
   "execution_count": 31,
   "id": "c0d9ee62",
   "metadata": {},
   "outputs": [
    {
     "name": "stdout",
     "output_type": "stream",
     "text": [
      "[[ 6  9 65 89]\n",
      " [ 3  7  9 45]\n",
      " [ 5  6  7 43]\n",
      " [45 56 56 77]]\n"
     ]
    }
   ],
   "source": [
    "var2 = np.array([[6,9,65,89],[3,45,7,9],[6,43,5,7],[56,45,77,56]])  ## 2D Array\n",
    "print(np.sort(var2))"
   ]
  },
  {
   "cell_type": "markdown",
   "id": "0a56b8b5",
   "metadata": {},
   "source": [
    "## Filter Array"
   ]
  },
  {
   "cell_type": "code",
   "execution_count": 33,
   "id": "802f34d0",
   "metadata": {},
   "outputs": [
    {
     "name": "stdout",
     "output_type": "stream",
     "text": [
      "['a' 'c']\n",
      "<class 'numpy.ndarray'>\n"
     ]
    }
   ],
   "source": [
    "var5 = np.array([\"a\",\"b\",\"c\",\"d\"])\n",
    "y =           [True,False,True,False] \n",
    "\n",
    "var6 = var5[y]\n",
    "print(var6)\n",
    "print(type(var6))"
   ]
  },
  {
   "cell_type": "code",
   "execution_count": null,
   "id": "3af9d9df",
   "metadata": {},
   "outputs": [],
   "source": []
  }
 ],
 "metadata": {
  "kernelspec": {
   "display_name": "Python 3 (ipykernel)",
   "language": "python",
   "name": "python3"
  },
  "language_info": {
   "codemirror_mode": {
    "name": "ipython",
    "version": 3
   },
   "file_extension": ".py",
   "mimetype": "text/x-python",
   "name": "python",
   "nbconvert_exporter": "python",
   "pygments_lexer": "ipython3",
   "version": "3.10.9"
  }
 },
 "nbformat": 4,
 "nbformat_minor": 5
}
