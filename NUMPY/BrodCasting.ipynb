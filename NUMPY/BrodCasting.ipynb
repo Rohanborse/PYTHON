{
 "cells": [
  {
   "cell_type": "markdown",
   "id": "4e656129",
   "metadata": {},
   "source": [
    "# Brodcasting in Numpy"
   ]
  },
  {
   "cell_type": "markdown",
   "id": "9ea960f2",
   "metadata": {},
   "source": [
    " # Some Rules while performing Operation\n",
    " \n",
    " 1) Same Dimensions\n",
    " \n",
    " 2) from both Atleast one have containing 1 in their Dimensions"
   ]
  },
  {
   "cell_type": "code",
   "execution_count": 1,
   "id": "c942d1ec",
   "metadata": {},
   "outputs": [],
   "source": [
    "import numpy as np"
   ]
  },
  {
   "cell_type": "code",
   "execution_count": 14,
   "id": "bbf31a0e",
   "metadata": {
    "scrolled": true
   },
   "outputs": [
    {
     "name": "stdout",
     "output_type": "stream",
     "text": [
      "[1 2 3]\n",
      "\n",
      "(3,)\n",
      "\n",
      "[[1]\n",
      " [2]\n",
      " [3]]\n",
      "\n",
      "(3, 1)\n",
      "\n",
      "[[2 3 4]\n",
      " [3 4 5]\n",
      " [4 5 6]]\n"
     ]
    }
   ],
   "source": [
    "var1 = np.array([1,2,3])\n",
    "print(var1)\n",
    "print()\n",
    "print(var1.shape)\n",
    "print()\n",
    "var2 = np.array([[1],[2],[3]])\n",
    "print(var2)\n",
    "print()\n",
    "print(var2.shape)\n",
    "\n",
    "x = np.add(var1,var2)\n",
    "print()\n",
    "print(x)"
   ]
  },
  {
   "cell_type": "code",
   "execution_count": null,
   "id": "32dde3d6",
   "metadata": {},
   "outputs": [],
   "source": [
    " "
   ]
  }
 ],
 "metadata": {
  "kernelspec": {
   "display_name": "Python 3 (ipykernel)",
   "language": "python",
   "name": "python3"
  },
  "language_info": {
   "codemirror_mode": {
    "name": "ipython",
    "version": 3
   },
   "file_extension": ".py",
   "mimetype": "text/x-python",
   "name": "python",
   "nbconvert_exporter": "python",
   "pygments_lexer": "ipython3",
   "version": "3.10.9"
  }
 },
 "nbformat": 4,
 "nbformat_minor": 5
}
