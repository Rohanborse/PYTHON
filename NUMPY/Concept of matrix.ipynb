{
 "cells": [
  {
   "cell_type": "code",
   "execution_count": 1,
   "id": "33cc2078",
   "metadata": {},
   "outputs": [],
   "source": [
    "import numpy as np"
   ]
  },
  {
   "cell_type": "code",
   "execution_count": 4,
   "id": "8fce6e5e",
   "metadata": {},
   "outputs": [
    {
     "name": "stdout",
     "output_type": "stream",
     "text": [
      "[[ 7 10]\n",
      " [15 22]]\n",
      "\n",
      "[[ 7 10]\n",
      " [15 22]]\n",
      "\n",
      "[[2 4]\n",
      " [6 8]]\n",
      "\n",
      "[[0 0]\n",
      " [0 0]]\n"
     ]
    }
   ],
   "source": [
    "var = np.matrix([[1,2],[3,4]])\n",
    "var2 = np.matrix([[1,2],[3,4]])  ## Creating Matrix\n",
    "\n",
    "print(var*var2)   ##  performing  arithematic operation\n",
    "print()\n",
    "print(var.dot(var2)) ## multiplication using .dot function\n",
    "print()\n",
    "print(var+var2)\n",
    "print()\n",
    "\n",
    "print(var-var2)\n"
   ]
  },
  {
   "cell_type": "markdown",
   "id": "ae4396c2",
   "metadata": {},
   "source": [
    "## Matrix function"
   ]
  },
  {
   "cell_type": "markdown",
   "id": "83ccf6c0",
   "metadata": {},
   "source": [
    " Transpose :- in this matrix change the axis means 2*3  converted in to 3*2\n",
    " \n",
    " "
   ]
  },
  {
   "cell_type": "code",
   "execution_count": 7,
   "id": "9aee3574",
   "metadata": {},
   "outputs": [
    {
     "name": "stdout",
     "output_type": "stream",
     "text": [
      "[[ 2  4 56]\n",
      " [ 5  6 78]]\n",
      "\n",
      "[[ 2  5]\n",
      " [ 4  6]\n",
      " [56 78]]\n",
      "\n",
      "[[ 2  5]\n",
      " [ 4  6]\n",
      " [56 78]]\n"
     ]
    }
   ],
   "source": [
    "var3 = np.array([[2,4,56],[5,6,78]])\n",
    "\n",
    "print(var3)\n",
    "print()\n",
    "\n",
    "print(np.transpose(var3))\n",
    "print()\n",
    "print(var3.T)"
   ]
  },
  {
   "cell_type": "markdown",
   "id": "01163d4f",
   "metadata": {},
   "source": [
    "Swapaxes :- "
   ]
  },
  {
   "cell_type": "code",
   "execution_count": 9,
   "id": "47c4f12e",
   "metadata": {},
   "outputs": [
    {
     "name": "stdout",
     "output_type": "stream",
     "text": [
      "[[ 2  4 56]\n",
      " [ 5  6 78]]\n",
      "\n",
      "[[ 2  5]\n",
      " [ 4  6]\n",
      " [56 78]]\n"
     ]
    }
   ],
   "source": [
    "var4 = np.array([[2,4,56],[5,6,78]])\n",
    "\n",
    "print(var4)\n",
    "print()\n",
    "print(np.swapaxes(var4,0,1))"
   ]
  },
  {
   "cell_type": "markdown",
   "id": "59fcc04a",
   "metadata": {},
   "source": [
    "Inverse Matrix : - "
   ]
  },
  {
   "cell_type": "code",
   "execution_count": 12,
   "id": "c7ec9973",
   "metadata": {},
   "outputs": [
    {
     "name": "stdout",
     "output_type": "stream",
     "text": [
      "[[2 4]\n",
      " [5 6]]\n",
      "\n",
      "[[-0.75   0.5  ]\n",
      " [ 0.625 -0.25 ]]\n"
     ]
    }
   ],
   "source": [
    "var5 = np.array([[2,4],[5,6]])\n",
    "print(var5)\n",
    "print()\n",
    "print(np.linalg.inv(var5))"
   ]
  },
  {
   "cell_type": "code",
   "execution_count": null,
   "id": "8e9f3b32",
   "metadata": {},
   "outputs": [],
   "source": []
  },
  {
   "cell_type": "code",
   "execution_count": null,
   "id": "bbd90fc7",
   "metadata": {},
   "outputs": [],
   "source": []
  }
 ],
 "metadata": {
  "kernelspec": {
   "display_name": "Python 3 (ipykernel)",
   "language": "python",
   "name": "python3"
  },
  "language_info": {
   "codemirror_mode": {
    "name": "ipython",
    "version": 3
   },
   "file_extension": ".py",
   "mimetype": "text/x-python",
   "name": "python",
   "nbconvert_exporter": "python",
   "pygments_lexer": "ipython3",
   "version": "3.10.9"
  }
 },
 "nbformat": 4,
 "nbformat_minor": 5
}
