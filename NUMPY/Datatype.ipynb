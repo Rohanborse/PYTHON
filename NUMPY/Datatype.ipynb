{
 "cells": [
  {
   "cell_type": "markdown",
   "id": "acb40ade",
   "metadata": {},
   "source": [
    "# Data type in Numpy Array"
   ]
  },
  {
   "cell_type": "code",
   "execution_count": 2,
   "id": "0eecedc2",
   "metadata": {},
   "outputs": [
    {
     "name": "stdout",
     "output_type": "stream",
     "text": [
      "Datatypr :  int32\n"
     ]
    }
   ],
   "source": [
    "import numpy as np\n",
    "\n",
    "var = np.array([1,2,6,9,8])\n",
    "\n",
    "print(\"Datatypr : \",var.dtype)\n"
   ]
  },
  {
   "cell_type": "code",
   "execution_count": 3,
   "id": "0dec0fb1",
   "metadata": {},
   "outputs": [
    {
     "name": "stdout",
     "output_type": "stream",
     "text": [
      "Datatypr :  float64\n"
     ]
    }
   ],
   "source": [
    "import numpy as np\n",
    "\n",
    "var = np.array([1.2,2,6,9,8])\n",
    "\n",
    "print(\"Datatypr : \",var.dtype)\n"
   ]
  },
  {
   "cell_type": "code",
   "execution_count": 4,
   "id": "9ea6ff57",
   "metadata": {},
   "outputs": [
    {
     "name": "stdout",
     "output_type": "stream",
     "text": [
      "Datatypr :  <U1\n"
     ]
    }
   ],
   "source": [
    "var = np.array([\"a\",\"r\"])\n",
    "\n",
    "print(\"Datatypr : \",var.dtype)"
   ]
  },
  {
   "cell_type": "code",
   "execution_count": 5,
   "id": "c3104997",
   "metadata": {},
   "outputs": [
    {
     "name": "stdout",
     "output_type": "stream",
     "text": [
      "Datatypr :  <U32\n"
     ]
    }
   ],
   "source": [
    "var = np.array([1.2,2,\"s\"])\n",
    "\n",
    "print(\"Datatypr : \",var.dtype)"
   ]
  },
  {
   "cell_type": "markdown",
   "id": "5f8257d2",
   "metadata": {},
   "source": [
    "## How To Change The Datatype"
   ]
  },
  {
   "cell_type": "code",
   "execution_count": 9,
   "id": "59b90e7f",
   "metadata": {},
   "outputs": [
    {
     "name": "stdout",
     "output_type": "stream",
     "text": [
      "Data Type :  int8\n"
     ]
    }
   ],
   "source": [
    "x = np.array([1,2,3,4],dtype =np.int8)\n",
    "\n",
    "print(\"Data Type : \",x.dtype)"
   ]
  },
  {
   "cell_type": "code",
   "execution_count": 11,
   "id": "23c3ed2f",
   "metadata": {},
   "outputs": [
    {
     "name": "stdout",
     "output_type": "stream",
     "text": [
      "Data Type :  float32\n",
      "[1. 2. 3. 4.]\n"
     ]
    }
   ],
   "source": [
    "x1 = np.array([1,2,3,4],dtype =\"f\")\n",
    "\n",
    "print(\"Data Type : \",x1.dtype)\n",
    "print(x1)"
   ]
  },
  {
   "cell_type": "markdown",
   "id": "fac57565",
   "metadata": {},
   "source": [
    "Change Datatype by function "
   ]
  },
  {
   "cell_type": "code",
   "execution_count": 15,
   "id": "2c5fb7a0",
   "metadata": {},
   "outputs": [
    {
     "name": "stdout",
     "output_type": "stream",
     "text": [
      "Data Type :  int32\n",
      "[1 2 3 4]\n",
      "Data Type :  float32\n",
      "[1. 2. 3. 4.]\n",
      "Data Type :  int32\n",
      "[1 2 3 4]\n"
     ]
    }
   ],
   "source": [
    "x2 = np.array([1,2,3,4],)\n",
    "new = np.float32(x2)\n",
    "new_1 = np.int32(new)\n",
    "print(\"Data Type : \",x2.dtype)\n",
    "print(x2)\n",
    "print(\"Data Type : \",new.dtype)\n",
    "print(new)\n",
    "print(\"Data Type : \",new_1.dtype)\n",
    "print(new_1)"
   ]
  },
  {
   "cell_type": "code",
   "execution_count": 16,
   "id": "5fb5e9fd",
   "metadata": {},
   "outputs": [
    {
     "name": "stdout",
     "output_type": "stream",
     "text": [
      "[1 6 8 6 9]\n",
      "[1. 6. 8. 6. 9.]\n"
     ]
    }
   ],
   "source": [
    "x3 = np.array([1,6,8,6,9])\n",
    "new = x3.astype(float)\n",
    "\n",
    "print(x3)\n",
    "print(new)"
   ]
  },
  {
   "cell_type": "code",
   "execution_count": null,
   "id": "7e663801",
   "metadata": {},
   "outputs": [],
   "source": []
  }
 ],
 "metadata": {
  "kernelspec": {
   "display_name": "Python 3 (ipykernel)",
   "language": "python",
   "name": "python3"
  },
  "language_info": {
   "codemirror_mode": {
    "name": "ipython",
    "version": 3
   },
   "file_extension": ".py",
   "mimetype": "text/x-python",
   "name": "python",
   "nbconvert_exporter": "python",
   "pygments_lexer": "ipython3",
   "version": "3.10.9"
  }
 },
 "nbformat": 4,
 "nbformat_minor": 5
}
