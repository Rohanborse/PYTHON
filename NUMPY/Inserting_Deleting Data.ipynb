{
 "cells": [
  {
   "cell_type": "markdown",
   "id": "1d59b82e",
   "metadata": {},
   "source": [
    "## Insert"
   ]
  },
  {
   "cell_type": "markdown",
   "id": "998c93f6",
   "metadata": {},
   "source": [
    "While we inserting the data the data must be in integer format\n",
    "\n",
    "if data in float value it will automatically converted in to integer"
   ]
  },
  {
   "cell_type": "code",
   "execution_count": 2,
   "id": "0bb183fd",
   "metadata": {},
   "outputs": [],
   "source": [
    "import numpy as np"
   ]
  },
  {
   "cell_type": "code",
   "execution_count": 4,
   "id": "bc529e79",
   "metadata": {},
   "outputs": [
    {
     "name": "stdout",
     "output_type": "stream",
     "text": [
      "[1 2 3 4 5]\n",
      "\n",
      "[ 1  2 40  3  4  5]\n"
     ]
    }
   ],
   "source": [
    "var = np.array([1,2,3,4,5])\n",
    "print(var)\n",
    "print()\n",
    "v= np.insert(var,2,40)    ## inserting data in the array\n",
    "print(v)"
   ]
  },
  {
   "cell_type": "code",
   "execution_count": 7,
   "id": "260edaec",
   "metadata": {},
   "outputs": [
    {
     "name": "stdout",
     "output_type": "stream",
     "text": [
      "[1 2 3 4 5]\n",
      "\n",
      "[ 1  2 40  3  4  6  5]\n"
     ]
    }
   ],
   "source": [
    "var = np.array([1,2,3,4,5])\n",
    "print(var)\n",
    "print()\n",
    "v= np.insert(var,(2,4),(40,6.5))    ## inserting multiple data in the array  by giving index\n",
    "print(v)"
   ]
  },
  {
   "cell_type": "code",
   "execution_count": 15,
   "id": "3083403a",
   "metadata": {},
   "outputs": [
    {
     "name": "stdout",
     "output_type": "stream",
     "text": [
      "[[1 2 5 6 4]\n",
      " [6 9 8 7 5]]\n",
      "\n",
      "[[1 2 5 6 4]\n",
      " [3 3 3 3 3]\n",
      " [6 9 8 7 5]]\n"
     ]
    }
   ],
   "source": [
    "var1 = np.array([[1,2,5,6,4],[6,9,8,7,5]])\n",
    "print(var1)                                 ## inserting Data in 2D Array\n",
    "print()\n",
    "v = np.insert(var1,1,3,axis=0)  ## axis = 0 means row           axis = 1 means coloum\n",
    "print(v)"
   ]
  },
  {
   "cell_type": "markdown",
   "id": "cb0cb264",
   "metadata": {},
   "source": [
    "## append Function"
   ]
  },
  {
   "cell_type": "code",
   "execution_count": 17,
   "id": "101adde7",
   "metadata": {},
   "outputs": [
    {
     "name": "stdout",
     "output_type": "stream",
     "text": [
      "[ 1.   2.   6.  96.   7.   5.   8.   6.5]\n"
     ]
    }
   ],
   "source": [
    "var2 = np.array([1,2,6,96,7,5,8,])\n",
    "\n",
    "v = np.append(var2,6.5)\n",
    "print(v)"
   ]
  },
  {
   "cell_type": "code",
   "execution_count": 24,
   "id": "bf86420d",
   "metadata": {},
   "outputs": [
    {
     "name": "stdout",
     "output_type": "stream",
     "text": [
      "[[2 4 5]\n",
      " [5 6 7]\n",
      " [5 6 8]]\n"
     ]
    }
   ],
   "source": [
    "var3 = np.array([[2,4,5],[5,6,7]])\n",
    "\n",
    "c = np.append(var3,[[5,6,8]],axis = 0 )\n",
    "print(c)"
   ]
  },
  {
   "cell_type": "markdown",
   "id": "7e8fdb52",
   "metadata": {},
   "source": [
    "## Deleting"
   ]
  },
  {
   "cell_type": "code",
   "execution_count": 25,
   "id": "a75b8bcc",
   "metadata": {},
   "outputs": [
    {
     "name": "stdout",
     "output_type": "stream",
     "text": [
      "[2 2 3 4]\n"
     ]
    }
   ],
   "source": [
    "var5 = np.array([2,2,3,4,4,])\n",
    "\n",
    "c = np.delete(var5,3)\n",
    "print(c)"
   ]
  },
  {
   "cell_type": "code",
   "execution_count": null,
   "id": "a141d7cc",
   "metadata": {},
   "outputs": [],
   "source": []
  }
 ],
 "metadata": {
  "kernelspec": {
   "display_name": "Python 3 (ipykernel)",
   "language": "python",
   "name": "python3"
  },
  "language_info": {
   "codemirror_mode": {
    "name": "ipython",
    "version": 3
   },
   "file_extension": ".py",
   "mimetype": "text/x-python",
   "name": "python",
   "nbconvert_exporter": "python",
   "pygments_lexer": "ipython3",
   "version": "3.10.9"
  }
 },
 "nbformat": 4,
 "nbformat_minor": 5
}
