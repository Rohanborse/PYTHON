{
 "cells": [
  {
   "cell_type": "markdown",
   "id": "bfe0a9e7",
   "metadata": {},
   "source": [
    "# Shape"
   ]
  },
  {
   "cell_type": "code",
   "execution_count": 3,
   "id": "b6087f15",
   "metadata": {},
   "outputs": [
    {
     "name": "stdout",
     "output_type": "stream",
     "text": [
      "[[1 2]\n",
      " [6 5]]\n",
      "(2, 2)\n"
     ]
    }
   ],
   "source": [
    "import numpy as np\n",
    "var = np.array([[1,2],[6,5]])\n",
    "print(var)\n",
    "print(var.shape)"
   ]
  },
  {
   "cell_type": "code",
   "execution_count": 11,
   "id": "15189bad",
   "metadata": {},
   "outputs": [
    {
     "name": "stdout",
     "output_type": "stream",
     "text": [
      "[[[[1 2 3 4]]]]\n",
      "\n",
      "4\n",
      "\n",
      "(1, 1, 1, 4)\n"
     ]
    }
   ],
   "source": [
    "var1 = np.array([1,2,3,4],ndmin = 4)\n",
    "print(var1)\n",
    "print()\n",
    "print(var1.ndim)\n",
    "print()\n",
    "print(var1.shape)"
   ]
  },
  {
   "cell_type": "markdown",
   "id": "2c38634f",
   "metadata": {},
   "source": [
    "## Reshape\n",
    "\n"
   ]
  },
  {
   "cell_type": "code",
   "execution_count": 20,
   "id": "0de8436d",
   "metadata": {},
   "outputs": [
    {
     "name": "stdout",
     "output_type": "stream",
     "text": [
      "[5 6 8 9 6 9]\n",
      "\n",
      "[[5 6]\n",
      " [8 9]\n",
      " [6 9]]\n",
      "\n",
      "Dimension of var2 :  1 D\n",
      "\n",
      "Dimension of X :  2 D\n"
     ]
    }
   ],
   "source": [
    "var2 = np.array([5,6,8,9,6,9])\n",
    "x = var2.reshape(3,2)\n",
    "print(var2)\n",
    "print()\n",
    "print(x)\n",
    "print()\n",
    "print(\"Dimension of var2 : \",var2.ndim,\"D\")\n",
    "print()\n",
    "print(\"Dimension of X : \",x.ndim,\"D\")\n"
   ]
  },
  {
   "cell_type": "code",
   "execution_count": 22,
   "id": "ee637175",
   "metadata": {},
   "outputs": [
    {
     "name": "stdout",
     "output_type": "stream",
     "text": [
      "[5 6 8 9 6 9 6 9 7 6 5 4]\n",
      "\n",
      "[[[5 6]\n",
      "  [8 9]\n",
      "  [6 9]]\n",
      "\n",
      " [[6 9]\n",
      "  [7 6]\n",
      "  [5 4]]]\n",
      "\n",
      "Dimension of var3 :  1 D\n",
      "\n",
      "Dimension of X :  3 D\n"
     ]
    }
   ],
   "source": [
    "var3 = np.array([5,6,8,9,6,9,6,9,7,6,5,4])\n",
    "x = var3.reshape(2,3,2)\n",
    "print(var3)\n",
    "print()\n",
    "print(x)\n",
    "print()\n",
    "print(\"Dimension of var3 : \",var3.ndim,\"D\")\n",
    "print()\n",
    "print(\"Dimension of X : \",x.ndim,\"D\")\n"
   ]
  },
  {
   "cell_type": "code",
   "execution_count": 32,
   "id": "bbf89b07",
   "metadata": {},
   "outputs": [
    {
     "name": "stdout",
     "output_type": "stream",
     "text": [
      "[5 6 8 9 6 9]\n",
      "\n",
      "[[5 6]\n",
      " [8 9]\n",
      " [6 9]]\n",
      "\n",
      "Dimension of var2 :  1 D\n",
      "\n",
      "Dimension of X :  2 D\n",
      "\n",
      "[5 6 8 9 6 9]\n",
      "\n",
      "Dimension of onedim :  1\n"
     ]
    }
   ],
   "source": [
    "var2 = np.array([5,6,8,9,6,9])  ## 1D array\n",
    "x = var2.reshape(3,2) ## Convaer 1D array into 2D Array\n",
    "print(var2)\n",
    "print()\n",
    "print(x)\n",
    "print()\n",
    "print(\"Dimension of var2 : \",var2.ndim,\"D\")\n",
    "print()\n",
    "print(\"Dimension of X : \",x.ndim,\"D\")\n",
    "\n",
    "oneDim = x.reshape(-1) ## Again 2D Array Converted into 1D Array\n",
    "print()\n",
    "print(oneDim)\n",
    "print()\n",
    "print(\"Dimension of onedim : \",oneDim.ndim)"
   ]
  },
  {
   "cell_type": "code",
   "execution_count": null,
   "id": "66d71635",
   "metadata": {},
   "outputs": [],
   "source": []
  },
  {
   "cell_type": "code",
   "execution_count": null,
   "id": "144ba7d3",
   "metadata": {},
   "outputs": [],
   "source": []
  },
  {
   "cell_type": "code",
   "execution_count": null,
   "id": "96ab3820",
   "metadata": {},
   "outputs": [],
   "source": []
  },
  {
   "cell_type": "code",
   "execution_count": null,
   "id": "554ad964",
   "metadata": {},
   "outputs": [],
   "source": []
  },
  {
   "cell_type": "code",
   "execution_count": null,
   "id": "093803e4",
   "metadata": {},
   "outputs": [],
   "source": []
  },
  {
   "cell_type": "code",
   "execution_count": null,
   "id": "615de391",
   "metadata": {},
   "outputs": [],
   "source": []
  },
  {
   "cell_type": "code",
   "execution_count": null,
   "id": "0380e2b7",
   "metadata": {},
   "outputs": [],
   "source": []
  },
  {
   "cell_type": "code",
   "execution_count": null,
   "id": "9c0b5527",
   "metadata": {},
   "outputs": [],
   "source": []
  },
  {
   "cell_type": "code",
   "execution_count": null,
   "id": "b08e75e2",
   "metadata": {},
   "outputs": [],
   "source": []
  }
 ],
 "metadata": {
  "kernelspec": {
   "display_name": "Python 3 (ipykernel)",
   "language": "python",
   "name": "python3"
  },
  "language_info": {
   "codemirror_mode": {
    "name": "ipython",
    "version": 3
   },
   "file_extension": ".py",
   "mimetype": "text/x-python",
   "name": "python",
   "nbconvert_exporter": "python",
   "pygments_lexer": "ipython3",
   "version": "3.10.9"
  }
 },
 "nbformat": 4,
 "nbformat_minor": 5
}
