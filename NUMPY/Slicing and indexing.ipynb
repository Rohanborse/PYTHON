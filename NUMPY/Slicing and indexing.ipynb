{
 "cells": [
  {
   "cell_type": "markdown",
   "id": "a49a7284",
   "metadata": {},
   "source": [
    "# indexing\n"
   ]
  },
  {
   "cell_type": "code",
   "execution_count": 1,
   "id": "e2e2a9c4",
   "metadata": {},
   "outputs": [],
   "source": [
    "import numpy as np"
   ]
  },
  {
   "cell_type": "code",
   "execution_count": 2,
   "id": "c134650f",
   "metadata": {},
   "outputs": [
    {
     "name": "stdout",
     "output_type": "stream",
     "text": [
      "3\n"
     ]
    }
   ],
   "source": [
    "##1d\n",
    "var = np.array([1,3,2,6,5])\n",
    "\n",
    "print(var[1])"
   ]
  },
  {
   "cell_type": "code",
   "execution_count": 3,
   "id": "a57031c2",
   "metadata": {},
   "outputs": [
    {
     "name": "stdout",
     "output_type": "stream",
     "text": [
      "3\n"
     ]
    }
   ],
   "source": [
    "var = np.array([[1,4,3,2],[2,3,4,5]])\n",
    "\n",
    "print(var[1,1])"
   ]
  },
  {
   "cell_type": "code",
   "execution_count": 6,
   "id": "500dd1ce",
   "metadata": {},
   "outputs": [
    {
     "name": "stdout",
     "output_type": "stream",
     "text": [
      "[[[1 2]\n",
      "  [3 4]]]\n",
      "\n",
      "4\n"
     ]
    }
   ],
   "source": [
    "var = np.array([[[1,2],[3,4]]])\n",
    "print(var)\n",
    "print()\n",
    "print(var[0,1,1])"
   ]
  },
  {
   "cell_type": "markdown",
   "id": "0b309330",
   "metadata": {},
   "source": [
    "# Slicing"
   ]
  },
  {
   "cell_type": "code",
   "execution_count": null,
   "id": "dad2fabf",
   "metadata": {},
   "outputs": [],
   "source": []
  }
 ],
 "metadata": {
  "kernelspec": {
   "display_name": "Python 3 (ipykernel)",
   "language": "python",
   "name": "python3"
  },
  "language_info": {
   "codemirror_mode": {
    "name": "ipython",
    "version": 3
   },
   "file_extension": ".py",
   "mimetype": "text/x-python",
   "name": "python",
   "nbconvert_exporter": "python",
   "pygments_lexer": "ipython3",
   "version": "3.10.9"
  }
 },
 "nbformat": 4,
 "nbformat_minor": 5
}
