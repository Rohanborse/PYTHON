{
 "cells": [
  {
   "cell_type": "markdown",
   "id": "796d6f33",
   "metadata": {},
   "source": [
    "# copy as view"
   ]
  },
  {
   "cell_type": "markdown",
   "id": "3e964cb3",
   "metadata": {},
   "source": [
    " copy :- 1) copy has its own data\n",
    " \n",
    "         2) if original data get change copy data will not change\n",
    "         \n",
    " view :- 1) view doesnt have its own data it's just a view of original Data\n",
    " \n",
    "         2) if original Data get change view data also change"
   ]
  },
  {
   "cell_type": "code",
   "execution_count": 1,
   "id": "3ab89902",
   "metadata": {},
   "outputs": [],
   "source": [
    "import numpy as np\n"
   ]
  },
  {
   "cell_type": "code",
   "execution_count": 8,
   "id": "44742340",
   "metadata": {},
   "outputs": [
    {
     "name": "stdout",
     "output_type": "stream",
     "text": [
      "cp :  [1 2 3 4 5 6 9]\n"
     ]
    }
   ],
   "source": [
    "var = np.array([1,2,3,4,5,6,9])\n",
    "\n",
    "\n",
    "cp = var.copy()\n",
    "print(\"cp : \",cp)"
   ]
  },
  {
   "cell_type": "code",
   "execution_count": 10,
   "id": "80e6cc19",
   "metadata": {},
   "outputs": [
    {
     "name": "stdout",
     "output_type": "stream",
     "text": [
      "[1 2 3 4 5 6 8]\n"
     ]
    }
   ],
   "source": [
    "var1 = np.array([1,2,3,4,5,6,8])\n",
    "\n",
    "vw = var1.view()\n",
    "print(vw)"
   ]
  },
  {
   "cell_type": "code",
   "execution_count": null,
   "id": "9033d870",
   "metadata": {},
   "outputs": [],
   "source": []
  }
 ],
 "metadata": {
  "kernelspec": {
   "display_name": "Python 3 (ipykernel)",
   "language": "python",
   "name": "python3"
  },
  "language_info": {
   "codemirror_mode": {
    "name": "ipython",
    "version": 3
   },
   "file_extension": ".py",
   "mimetype": "text/x-python",
   "name": "python",
   "nbconvert_exporter": "python",
   "pygments_lexer": "ipython3",
   "version": "3.10.9"
  }
 },
 "nbformat": 4,
 "nbformat_minor": 5
}
