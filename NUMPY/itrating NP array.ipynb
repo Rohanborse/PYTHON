{
 "cells": [
  {
   "cell_type": "code",
   "execution_count": 1,
   "metadata": {
    "executionInfo": {
     "elapsed": 4,
     "status": "ok",
     "timestamp": 1683212296706,
     "user": {
      "displayName": "Rohan Borse",
      "userId": "04076104946177543634"
     },
     "user_tz": -330
    },
    "id": "xf5aiZ2IRKjA"
   },
   "outputs": [],
   "source": [
    "import numpy as np"
   ]
  },
  {
   "cell_type": "code",
   "execution_count": 24,
   "metadata": {
    "colab": {
     "base_uri": "https://localhost:8080/"
    },
    "executionInfo": {
     "elapsed": 2,
     "status": "ok",
     "timestamp": 1683213465081,
     "user": {
      "displayName": "Rohan Borse",
      "userId": "04076104946177543634"
     },
     "user_tz": -330
    },
    "id": "L0DDPZPcRTnE",
    "outputId": "ccf3f7bc-8e33-4109-b972-ece3dbc1ffb3"
   },
   "outputs": [
    {
     "name": "stdout",
     "output_type": "stream",
     "text": [
      "[[1 2 3 4 5]\n",
      " [6 7 8 9 0]]\n",
      "\n",
      "[1 2 3 4 5]\n",
      "1\n",
      "2\n",
      "3\n",
      "4\n",
      "5\n",
      "[6 7 8 9 0]\n",
      "6\n",
      "7\n",
      "8\n",
      "9\n",
      "0\n"
     ]
    }
   ],
   "source": [
    "var = np.array([[1,2,3,4,5],[6,7,8,9,0]])\n",
    "print(var)\n",
    "print()\n",
    "for i in var : ## using for looop itreate the data\n",
    "  print(i)\n",
    "  for j in i :\n",
    "    print(j)\n"
   ]
  },
  {
   "cell_type": "code",
   "execution_count": 28,
   "metadata": {
    "colab": {
     "base_uri": "https://localhost:8080/"
    },
    "executionInfo": {
     "elapsed": 1042,
     "status": "ok",
     "timestamp": 1683213749399,
     "user": {
      "displayName": "Rohan Borse",
      "userId": "04076104946177543634"
     },
     "user_tz": -330
    },
    "id": "mbYvy2NMR25l",
    "outputId": "33f78ac9-25f0-41ca-9aea-7841d113351a"
   },
   "outputs": [
    {
     "name": "stdout",
     "output_type": "stream",
     "text": [
      "[[[ 1  2  3  4  5]\n",
      "  [ 6  7  8  9  0]\n",
      "  [11 12 13 14 15]]]\n",
      "\n",
      "1.0\n",
      "2.0\n",
      "3.0\n",
      "4.0\n",
      "5.0\n",
      "6.0\n",
      "7.0\n",
      "8.0\n",
      "9.0\n",
      "0.0\n",
      "11.0\n",
      "12.0\n",
      "13.0\n",
      "14.0\n",
      "15.0\n"
     ]
    }
   ],
   "source": [
    "var2 = np.array([[[1,2,3,4,5],[6,7,8,9,0],[11,12,13,14,15]]])\n",
    "print(var2)\n",
    "print()\n",
    "for i in np.nditer(var2,flags=['buffered'],op_dtypes= [\"float\"]): ## use nditer function  to itrate the 3d array and convert datatype\n",
    "  print(i)\n",
    "\n"
   ]
  },
  {
   "cell_type": "code",
   "execution_count": 36,
   "metadata": {
    "colab": {
     "base_uri": "https://localhost:8080/"
    },
    "executionInfo": {
     "elapsed": 3,
     "status": "ok",
     "timestamp": 1683215065596,
     "user": {
      "displayName": "Rohan Borse",
      "userId": "04076104946177543634"
     },
     "user_tz": -330
    },
    "id": "9qZlK3ThTyOa",
    "outputId": "66a9ceb5-0c6b-4fa6-f2dd-d6185d058fbe"
   },
   "outputs": [
    {
     "name": "stdout",
     "output_type": "stream",
     "text": [
      "[[[ 1  2  3  4  5]\n",
      "  [ 6  7  8  9  0]\n",
      "  [11 12 13 14 15]]]\n",
      "\n",
      "(0, 0, 0) 1\n",
      "(0, 0, 1) 2\n",
      "(0, 0, 2) 3\n",
      "(0, 0, 3) 4\n",
      "(0, 0, 4) 5\n",
      "(0, 1, 0) 6\n",
      "(0, 1, 1) 7\n",
      "(0, 1, 2) 8\n",
      "(0, 1, 3) 9\n",
      "(0, 1, 4) 0\n",
      "(0, 2, 0) 11\n",
      "(0, 2, 1) 12\n",
      "(0, 2, 2) 13\n",
      "(0, 2, 3) 14\n",
      "(0, 2, 4) 15\n"
     ]
    }
   ],
   "source": [
    "var2 = np.array([[[1,2,3,4,5],[6,7,8,9,0],[11,12,13,14,15]]])\n",
    "print(var2)\n",
    "print()\n",
    "for i,d in np.ndenumerate(var2): ## ndeumerate will give the all elements indexing and also give that no.s\n",
    "  print(i,d)"
   ]
  },
  {
   "cell_type": "code",
   "execution_count": null,
   "metadata": {
    "id": "nUtGyyxAXBEi"
   },
   "outputs": [],
   "source": [
    "##"
   ]
  }
 ],
 "metadata": {
  "colab": {
   "authorship_tag": "ABX9TyPN/pcuZnDSBGRbahJdlAyD",
   "provenance": []
  },
  "kernelspec": {
   "display_name": "Python 3 (ipykernel)",
   "language": "python",
   "name": "python3"
  },
  "language_info": {
   "codemirror_mode": {
    "name": "ipython",
    "version": 3
   },
   "file_extension": ".py",
   "mimetype": "text/x-python",
   "name": "python",
   "nbconvert_exporter": "python",
   "pygments_lexer": "ipython3",
   "version": "3.10.9"
  }
 },
 "nbformat": 4,
 "nbformat_minor": 1
}
