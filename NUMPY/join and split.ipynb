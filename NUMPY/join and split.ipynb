{
 "cells": [
  {
   "cell_type": "markdown",
   "id": "cdb4e974",
   "metadata": {},
   "source": [
    "## Join Array"
   ]
  },
  {
   "cell_type": "code",
   "execution_count": 4,
   "id": "b6cba332",
   "metadata": {},
   "outputs": [],
   "source": [
    "import numpy as np"
   ]
  },
  {
   "cell_type": "markdown",
   "id": "ad5ef54d",
   "metadata": {},
   "source": [
    "to join the array use :- Concatenate ((a,b))\n",
    "\n",
    "one more function to marge array is stack"
   ]
  },
  {
   "cell_type": "code",
   "execution_count": 8,
   "id": "73ec4a64",
   "metadata": {},
   "outputs": [
    {
     "name": "stdout",
     "output_type": "stream",
     "text": [
      "[1 2 3 4 5 6 7 8 9 0]\n"
     ]
    }
   ],
   "source": [
    "var = np.array([1,2,3,4,5])\n",
    "var1 = np.array([6,7,8,9,0])\n",
    "\n",
    "a = np.concatenate((var,var1))\n",
    "print(a)"
   ]
  },
  {
   "cell_type": "markdown",
   "id": "97436cf5",
   "metadata": {},
   "source": [
    "For Row along :-  axis = 1\n",
    "For Coloum along : - axis = 0"
   ]
  },
  {
   "cell_type": "code",
   "execution_count": 21,
   "id": "0b364a86",
   "metadata": {},
   "outputs": [
    {
     "name": "stdout",
     "output_type": "stream",
     "text": [
      "[[1 2]\n",
      " [3 4]]\n",
      "\n",
      "[[6 7]\n",
      " [8 9]]\n",
      "\n",
      "[[1 2 6 7]\n",
      " [3 4 8 9]]\n"
     ]
    }
   ],
   "source": [
    "var_0 = np.array([[1,2],[3,4]])\n",
    "var_1= np.array([[6,7],[8,9]])\n",
    "\n",
    "a = np.concatenate((var,var1),axis = 1)\n",
    "print(var_0)\n",
    "print()\n",
    "print(var_1)\n",
    "print()\n",
    "print(a)"
   ]
  },
  {
   "cell_type": "code",
   "execution_count": 20,
   "id": "f908c2c3",
   "metadata": {},
   "outputs": [
    {
     "name": "stdout",
     "output_type": "stream",
     "text": [
      "[[1 6]\n",
      " [2 7]\n",
      " [3 8]\n",
      " [4 9]\n",
      " [5 0]]\n"
     ]
    }
   ],
   "source": [
    "var_2 = np.array([1,2,3,4,5])\n",
    "var_3 = np.array([6,7,8,9,0])\n",
    "\n",
    "a_n = np.stack((var_2,var_3), axis = 1)\n",
    "print(a_n)"
   ]
  },
  {
   "cell_type": "code",
   "execution_count": 24,
   "id": "05252135",
   "metadata": {},
   "outputs": [
    {
     "name": "stdout",
     "output_type": "stream",
     "text": [
      "[[1 6]\n",
      " [2 7]\n",
      " [3 8]\n",
      " [4 9]\n",
      " [5 0]]\n",
      "\n",
      "[1 2 3 4 5 6 7 8 9 0]\n",
      "\n",
      "[[1 2 3 4 5]\n",
      " [6 7 8 9 0]]\n",
      "\n",
      "[[[1 6]\n",
      "  [2 7]\n",
      "  [3 8]\n",
      "  [4 9]\n",
      "  [5 0]]]\n"
     ]
    }
   ],
   "source": [
    "var_2 = np.array([1,2,3,4,5])\n",
    "var_3 = np.array([6,7,8,9,0])\n",
    "\n",
    "a_0 = np.stack((var_2,var_3), axis = 1)\n",
    "a_1 = np.hstack((var_2,var_3))  ## row\n",
    "a_2 = np.vstack((var_2,var_3))  ## colume\n",
    "a_3 = np.dstack((var_2,var_3))  ## Height\n",
    "print(a_0)\n",
    "print()\n",
    "print(a_1)\n",
    "print()\n",
    "print(a_2)\n",
    "print()\n",
    "print(a_3)"
   ]
  },
  {
   "cell_type": "markdown",
   "id": "daa9f5c4",
   "metadata": {},
   "source": [
    "# Split Array"
   ]
  },
  {
   "cell_type": "code",
   "execution_count": 28,
   "id": "8974ff59",
   "metadata": {},
   "outputs": [
    {
     "name": "stdout",
     "output_type": "stream",
     "text": [
      "[1 2 3 4 5 6 7 8 9]\n",
      "[array([1, 2]), array([3, 4]), array([5, 6]), array([7, 8]), array([9])]\n"
     ]
    }
   ],
   "source": [
    "var4 = np.array([1,2,3,4,5,6,7,8,9])\n",
    "\n",
    "print (var4)\n",
    "sa = np.array_split(var4,5)\n",
    "print(sa)"
   ]
  },
  {
   "cell_type": "code",
   "execution_count": 34,
   "id": "14261585",
   "metadata": {},
   "outputs": [
    {
     "name": "stdout",
     "output_type": "stream",
     "text": [
      "[[1 2 3 4 5]\n",
      " [6 7 8 9 0]]\n",
      "[array([[1, 2, 3, 4, 5]]), array([[6, 7, 8, 9, 0]]), array([], shape=(0, 5), dtype=int32), array([], shape=(0, 5), dtype=int32)]\n"
     ]
    }
   ],
   "source": [
    "var4 = np.array([[1,2,3,4,5],[6,7,8,9,0]])\n",
    "\n",
    "print (var4)\n",
    "sa = np.array_split(var4,4)\n",
    "print(sa)\n"
   ]
  },
  {
   "cell_type": "code",
   "execution_count": null,
   "id": "9ee5b54f",
   "metadata": {},
   "outputs": [],
   "source": []
  }
 ],
 "metadata": {
  "kernelspec": {
   "display_name": "Python 3 (ipykernel)",
   "language": "python",
   "name": "python3"
  },
  "language_info": {
   "codemirror_mode": {
    "name": "ipython",
    "version": 3
   },
   "file_extension": ".py",
   "mimetype": "text/x-python",
   "name": "python",
   "nbconvert_exporter": "python",
   "pygments_lexer": "ipython3",
   "version": "3.10.9"
  }
 },
 "nbformat": 4,
 "nbformat_minor": 5
}
