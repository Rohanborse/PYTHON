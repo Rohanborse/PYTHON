{
 "cells": [
  {
   "cell_type": "markdown",
   "id": "1f14fe26",
   "metadata": {},
   "source": [
    "##  Arithematic Operation"
   ]
  },
  {
   "cell_type": "code",
   "execution_count": 3,
   "id": "80d7ec96",
   "metadata": {},
   "outputs": [],
   "source": [
    "import pandas as pd"
   ]
  },
  {
   "cell_type": "code",
   "execution_count": 9,
   "id": "9b1cb2ab",
   "metadata": {},
   "outputs": [
    {
     "name": "stdout",
     "output_type": "stream",
     "text": [
      "   A  B\n",
      "0  1  6\n",
      "1  2  7\n",
      "2  3  8\n",
      "3  4  9\n",
      "4  5  0\n",
      "   A  B   C\n",
      "0  1  6   7\n",
      "1  2  7   9\n",
      "2  3  8  11\n",
      "3  4  9  13\n",
      "4  5  0   5\n",
      "\n",
      "   A  B   C  python  python_1\n",
      "0  1  6   7   False      True\n",
      "1  2  7   9   False      True\n",
      "2  3  8  11   False      True\n",
      "3  4  9  13   False      True\n",
      "4  5  0   5    True     False\n"
     ]
    }
   ],
   "source": [
    "var = pd.DataFrame({\"A\":[1,2,3,4,5],\"B\":[6,7,8,9,0]})\n",
    "print(var)\n",
    "\n",
    "\n",
    "var[\"C\"] = var[\"A\"] + var[\"B\"]  ## adding two column and creating new coloum\n",
    "\n",
    "print(var)\n",
    "print()\n",
    "var[\"python\"] = var[\"A\"] >= 5  ## Creating new Coloumn Name Python which Showing only the element less than or equal to 5\n",
    "var[\"python_1\"] = var[\"B\"] >= 5\n",
    "print(var)"
   ]
  },
  {
   "cell_type": "code",
   "execution_count": null,
   "id": "3e90244d",
   "metadata": {},
   "outputs": [],
   "source": []
  },
  {
   "cell_type": "code",
   "execution_count": null,
   "id": "f7dcb89d",
   "metadata": {},
   "outputs": [],
   "source": []
  }
 ],
 "metadata": {
  "kernelspec": {
   "display_name": "Python 3 (ipykernel)",
   "language": "python",
   "name": "python3"
  },
  "language_info": {
   "codemirror_mode": {
    "name": "ipython",
    "version": 3
   },
   "file_extension": ".py",
   "mimetype": "text/x-python",
   "name": "python",
   "nbconvert_exporter": "python",
   "pygments_lexer": "ipython3",
   "version": "3.10.9"
  }
 },
 "nbformat": 4,
 "nbformat_minor": 5
}
