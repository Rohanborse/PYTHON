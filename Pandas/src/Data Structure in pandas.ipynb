{
 "cells": [
  {
   "cell_type": "code",
   "execution_count": 1,
   "id": "0c4a11ef",
   "metadata": {},
   "outputs": [],
   "source": [
    "import pandas as pd"
   ]
  },
  {
   "cell_type": "markdown",
   "id": "8c0bc2b2",
   "metadata": {},
   "source": [
    "Pandas provide  three type of data structure\n",
    "\n",
    "serise\n",
    "\n",
    "dataframe\n",
    "\n",
    "panel"
   ]
  },
  {
   "cell_type": "markdown",
   "id": "37cdc9d2",
   "metadata": {},
   "source": [
    "## Series :- \n",
    "\n",
    "Series is a one dimensional array that is capeble of storing the various type of data\n",
    "\n",
    "a = pd.Series                            ## in Series \"S must be capital\"\n",
    "print(a)"
   ]
  },
  {
   "cell_type": "code",
   "execution_count": 4,
   "id": "2bc0baae",
   "metadata": {},
   "outputs": [
    {
     "name": "stdout",
     "output_type": "stream",
     "text": [
      "0     1\n",
      "1     3\n",
      "2     4\n",
      "3     5\n",
      "4     6\n",
      "5     7\n",
      "6     7\n",
      "7     8\n",
      "8    89\n",
      "9     9\n",
      "dtype: int64\n",
      "<class 'pandas.core.series.Series'>\n",
      "\n",
      "4\n"
     ]
    }
   ],
   "source": [
    "x = [1,3,4,5,6,7,7,8,89,9]\n",
    "\n",
    "n = pd.Series(x)  \n",
    "\n",
    "print(n)\n",
    "\n",
    "print(type(n))\n",
    "print()\n",
    "print(n[2])"
   ]
  },
  {
   "cell_type": "code",
   "execution_count": 7,
   "id": "51971fe8",
   "metadata": {},
   "outputs": [
    {
     "name": "stdout",
     "output_type": "stream",
     "text": [
      "a    1.0\n",
      "b    3.0\n",
      "c    4.0\n",
      "d    5.0\n",
      "Name: RB, dtype: float64\n"
     ]
    }
   ],
   "source": [
    "x = [1,3,4,5]\n",
    "\n",
    "n = pd.Series(x,index = [\"a\",\"b\",\"c\",\"d\"],dtype= \"float\",name = \"RB\")  \n",
    "#                                             index =[]   :- use to change the indexing ,\n",
    "#                                             dtype = \" \" :- use to change the Datatype ,\n",
    "#                                             name = \" \"  :- use to give the name\n",
    "print(n)"
   ]
  },
  {
   "cell_type": "code",
   "execution_count": 9,
   "id": "adadd6a4",
   "metadata": {},
   "outputs": [
    {
     "data": {
      "text/plain": [
       "name          [pyhton, c++, java]\n",
       "popularity           [12, 13, 16]\n",
       "rank                    [3, 5, 1]\n",
       "dtype: object"
      ]
     },
     "execution_count": 9,
     "metadata": {},
     "output_type": "execute_result"
    }
   ],
   "source": [
    "dic = {\"name\":[\"pyhton\",\"c++\",\"java\"],\"popularity\":[\"12\",\"13\",\"16\"],\"rank\":[\"3\",\"5\",\"1\"]}\n",
    "                                                            # dictionary using Pandas\n",
    "var = pd.Series(dic)\n",
    "\n",
    "var                                                        # this line printing the \"var\""
   ]
  },
  {
   "cell_type": "code",
   "execution_count": 14,
   "id": "9c1fcacc",
   "metadata": {},
   "outputs": [
    {
     "name": "stdout",
     "output_type": "stream",
     "text": [
      "1    22.0\n",
      "2    22.0\n",
      "3    22.0\n",
      "4    22.0\n",
      "5    22.0\n",
      "6     NaN\n",
      "7     NaN\n",
      "8     NaN\n",
      "dtype: float64\n",
      "<class 'pandas.core.series.Series'>\n"
     ]
    }
   ],
   "source": [
    "s1 = pd.Series(12,index = [1,2,3,4,5])\n",
    "s2 = pd.Series(10,index = [1,2,3,4,5,6,7,8])\n",
    "\n",
    "print(s1+s2)\n",
    "print(type(s1+s2))"
   ]
  },
  {
   "cell_type": "markdown",
   "id": "b81d404b",
   "metadata": {},
   "source": [
    "## Data Frame :-"
   ]
  },
  {
   "cell_type": "code",
   "execution_count": 15,
   "id": "ce1409f2",
   "metadata": {},
   "outputs": [],
   "source": [
    "import pandas as pd"
   ]
  },
  {
   "cell_type": "code",
   "execution_count": 17,
   "id": "8ee554bb",
   "metadata": {},
   "outputs": [
    {
     "name": "stdout",
     "output_type": "stream",
     "text": [
      "   0\n",
      "0  1\n",
      "1  2\n",
      "2  3\n",
      "3  4\n",
      "4  5\n",
      "5  6\n",
      "6  7\n",
      "7  8\n",
      "8  9\n"
     ]
    }
   ],
   "source": [
    "l = [1,2,3,4,5,6,7,8,9]\n",
    "\n",
    "var = pd.DataFrame(l)\n",
    "print(var)"
   ]
  },
  {
   "cell_type": "code",
   "execution_count": 42,
   "id": "fad10cef",
   "metadata": {},
   "outputs": [
    {
     "name": "stdout",
     "output_type": "stream",
     "text": [
      "   ROllNo\n",
      "0       1\n",
      "1       2\n",
      "2       3\n",
      "3       4\n",
      "4       5\n",
      "\n",
      "4\n"
     ]
    }
   ],
   "source": [
    "dic = {\"name\":[\"R\",\"A\",\"S\",\"R\",\"T\"],\"ROllNo\":[1,2,3,4,5]}\n",
    "\n",
    "var2 = pd.DataFrame(dic,columns=[\"ROllNo\"])\n",
    "print(var2)\n",
    "print()\n",
    "print(var2[\"ROllNo\"][3])"
   ]
  },
  {
   "cell_type": "code",
   "execution_count": 43,
   "id": "a8449e3e",
   "metadata": {},
   "outputs": [
    {
     "data": {
      "text/html": [
       "<div>\n",
       "<style scoped>\n",
       "    .dataframe tbody tr th:only-of-type {\n",
       "        vertical-align: middle;\n",
       "    }\n",
       "\n",
       "    .dataframe tbody tr th {\n",
       "        vertical-align: top;\n",
       "    }\n",
       "\n",
       "    .dataframe thead th {\n",
       "        text-align: right;\n",
       "    }\n",
       "</style>\n",
       "<table border=\"1\" class=\"dataframe\">\n",
       "  <thead>\n",
       "    <tr style=\"text-align: right;\">\n",
       "      <th></th>\n",
       "      <th>0</th>\n",
       "      <th>1</th>\n",
       "      <th>2</th>\n",
       "      <th>3</th>\n",
       "      <th>4</th>\n",
       "    </tr>\n",
       "  </thead>\n",
       "  <tbody>\n",
       "    <tr>\n",
       "      <th>0</th>\n",
       "      <td>1</td>\n",
       "      <td>2</td>\n",
       "      <td>3</td>\n",
       "      <td>4</td>\n",
       "      <td>5</td>\n",
       "    </tr>\n",
       "    <tr>\n",
       "      <th>1</th>\n",
       "      <td>6</td>\n",
       "      <td>7</td>\n",
       "      <td>8</td>\n",
       "      <td>9</td>\n",
       "      <td>0</td>\n",
       "    </tr>\n",
       "  </tbody>\n",
       "</table>\n",
       "</div>"
      ],
      "text/plain": [
       "   0  1  2  3  4\n",
       "0  1  2  3  4  5\n",
       "1  6  7  8  9  0"
      ]
     },
     "execution_count": 43,
     "metadata": {},
     "output_type": "execute_result"
    }
   ],
   "source": [
    "list_1 = [[1,2,3,4,5],[6,7,8,9,0]]\n",
    "\n",
    "var3 = pd.DataFrame(list_1)\n",
    "var3"
   ]
  },
  {
   "cell_type": "code",
   "execution_count": null,
   "id": "0a3b7e59",
   "metadata": {},
   "outputs": [],
   "source": []
  }
 ],
 "metadata": {
  "kernelspec": {
   "display_name": "Python 3 (ipykernel)",
   "language": "python",
   "name": "python3"
  },
  "language_info": {
   "codemirror_mode": {
    "name": "ipython",
    "version": 3
   },
   "file_extension": ".py",
   "mimetype": "text/x-python",
   "name": "python",
   "nbconvert_exporter": "python",
   "pygments_lexer": "ipython3",
   "version": "3.10.9"
  }
 },
 "nbformat": 4,
 "nbformat_minor": 5
}
