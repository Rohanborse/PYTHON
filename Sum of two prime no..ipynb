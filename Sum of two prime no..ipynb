{
 "cells": [
  {
   "cell_type": "code",
   "execution_count": 54,
   "id": "82b624d6",
   "metadata": {},
   "outputs": [
    {
     "name": "stdout",
     "output_type": "stream",
     "text": [
      "Enter the no : 70\n",
      "3 67\n",
      "11 59\n",
      "17 53\n",
      "23 47\n",
      "29 41\n"
     ]
    }
   ],
   "source": [
    "def check_prime(n):\n",
    "    count = 0\n",
    "    for x in range(2, int(n/2)+1):\n",
    "        if(n%x==0):\n",
    "            return False\n",
    "    return True\n",
    "    \n",
    "a = int(input(\"Enter the no : \"))\n",
    "n1=0; n2=0\n",
    "for x in range(2, int(a/2)+1):\n",
    "    if(check_prime(x)):\n",
    "        n1=x\n",
    "        n2=a-x\n",
    "        if(check_prime(n2)):\n",
    "            print(n1, n2)\n"
   ]
  },
  {
   "cell_type": "code",
   "execution_count": 32,
   "id": "a41b42f4",
   "metadata": {},
   "outputs": [
    {
     "name": "stdout",
     "output_type": "stream",
     "text": [
      "-1.0\n"
     ]
    }
   ],
   "source": [
    "print(-3/3)"
   ]
  },
  {
   "cell_type": "code",
   "execution_count": null,
   "id": "274b91a1",
   "metadata": {},
   "outputs": [],
   "source": []
  },
  {
   "cell_type": "code",
   "execution_count": null,
   "id": "5c9fcf8d",
   "metadata": {},
   "outputs": [],
   "source": []
  }
 ],
 "metadata": {
  "kernelspec": {
   "display_name": "Python 3 (ipykernel)",
   "language": "python",
   "name": "python3"
  },
  "language_info": {
   "codemirror_mode": {
    "name": "ipython",
    "version": 3
   },
   "file_extension": ".py",
   "mimetype": "text/x-python",
   "name": "python",
   "nbconvert_exporter": "python",
   "pygments_lexer": "ipython3",
   "version": "3.10.9"
  }
 },
 "nbformat": 4,
 "nbformat_minor": 5
}
