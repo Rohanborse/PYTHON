{
 "cells": [
  {
   "cell_type": "code",
   "execution_count": 5,
   "id": "ef5a426a",
   "metadata": {},
   "outputs": [
    {
     "name": "stdout",
     "output_type": "stream",
     "text": [
      "enter the 1st no. : 45\n",
      "enter the 2nd no. : 76\n",
      "enter the operation you want to perform :multiPliCatioN\n",
      "Multiplication :  3420\n"
     ]
    }
   ],
   "source": [
    "a = int(input(\"enter the 1st no. : \"))\n",
    "b = int(input(\"enter the 2nd no. : \"))\n",
    "x = input(\"enter the operation you want to perform :\")\n",
    "x = x.lower()\n",
    "if (x=='addition'):\n",
    "    print(\"Addition  : \", a+b)\n",
    "elif(x=='substraction'):\n",
    "    print(\"Substraction :\", a-b)\n",
    "elif(x=='multiplication'):\n",
    "    print(\"Multiplication : \", a*b)\n",
    "elif(x=='division'):\n",
    "    print(\"Division :\", a/b)"
   ]
  },
  {
   "cell_type": "code",
   "execution_count": null,
   "id": "be15fcee",
   "metadata": {},
   "outputs": [],
   "source": []
  },
  {
   "cell_type": "code",
   "execution_count": null,
   "id": "48af15f8",
   "metadata": {},
   "outputs": [],
   "source": []
  },
  {
   "cell_type": "code",
   "execution_count": null,
   "id": "f4359853",
   "metadata": {},
   "outputs": [],
   "source": []
  },
  {
   "cell_type": "code",
   "execution_count": null,
   "id": "a27d99a1",
   "metadata": {},
   "outputs": [],
   "source": []
  },
  {
   "cell_type": "code",
   "execution_count": null,
   "id": "273c5f90",
   "metadata": {},
   "outputs": [],
   "source": []
  }
 ],
 "metadata": {
  "kernelspec": {
   "display_name": "Python 3 (ipykernel)",
   "language": "python",
   "name": "python3"
  },
  "language_info": {
   "codemirror_mode": {
    "name": "ipython",
    "version": 3
   },
   "file_extension": ".py",
   "mimetype": "text/x-python",
   "name": "python",
   "nbconvert_exporter": "python",
   "pygments_lexer": "ipython3",
   "version": "3.10.9"
  }
 },
 "nbformat": 4,
 "nbformat_minor": 5
}
