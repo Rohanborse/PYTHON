{
 "cells": [
  {
   "cell_type": "code",
   "execution_count": 8,
   "id": "31b751c6",
   "metadata": {},
   "outputs": [
    {
     "name": "stdout",
     "output_type": "stream",
     "text": [
      "1386\n",
      "462\n",
      "418\n",
      "344\n",
      "236\n",
      "566\n",
      "978\n",
      "328\n",
      "1390\n",
      "162\n",
      "758\n",
      "918\n",
      "412\n",
      "566\n"
     ]
    }
   ],
   "source": [
    "numbers = [1386, 462, 47, 418, 907, 344, 236, 375, 823, 566, 597,\n",
    "978, 328, 615, 953, 345, 1390, 162, 758, 219, 918, 237, 412, 566,\n",
    "449, 248, 866, 950, 626, 949, 687, 217, 815, 67, 104, 58, 512, 24]\n",
    "for a in numbers:\n",
    "    if a == 449: \n",
    "        break\n",
    "    elif a%2 == 0:\n",
    "        print(a)\n",
    "\n",
    "    "
   ]
  },
  {
   "cell_type": "code",
   "execution_count": null,
   "id": "f3d80662",
   "metadata": {},
   "outputs": [],
   "source": []
  }
 ],
 "metadata": {
  "kernelspec": {
   "display_name": "Python 3 (ipykernel)",
   "language": "python",
   "name": "python3"
  },
  "language_info": {
   "codemirror_mode": {
    "name": "ipython",
    "version": 3
   },
   "file_extension": ".py",
   "mimetype": "text/x-python",
   "name": "python",
   "nbconvert_exporter": "python",
   "pygments_lexer": "ipython3",
   "version": "3.10.9"
  }
 },
 "nbformat": 4,
 "nbformat_minor": 5
}
