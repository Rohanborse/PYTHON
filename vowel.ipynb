{
 "cells": [
  {
   "cell_type": "code",
   "execution_count": 5,
   "id": "7c7d41c6",
   "metadata": {},
   "outputs": [
    {
     "name": "stdout",
     "output_type": "stream",
     "text": [
      "Enter the letter :A\n",
      "Enter letter is vowel\n"
     ]
    }
   ],
   "source": [
    "x = input(\"Enter the letter :\")\n",
    "if (x=='a',x=='e',x=='i',x=='o',x=='u',x=='A',x=='E',x=='I',x=='O',x=='U'):\n",
    "    print(\"Enter letter is vowel\")\n",
    "else:\n",
    "    print(\"Enter letter is not vowel\")"
   ]
  },
  {
   "cell_type": "code",
   "execution_count": null,
   "id": "62d33b88",
   "metadata": {},
   "outputs": [],
   "source": []
  },
  {
   "cell_type": "code",
   "execution_count": null,
   "id": "a0a8d7c0",
   "metadata": {},
   "outputs": [],
   "source": []
  }
 ],
 "metadata": {
  "kernelspec": {
   "display_name": "Python 3 (ipykernel)",
   "language": "python",
   "name": "python3"
  },
  "language_info": {
   "codemirror_mode": {
    "name": "ipython",
    "version": 3
   },
   "file_extension": ".py",
   "mimetype": "text/x-python",
   "name": "python",
   "nbconvert_exporter": "python",
   "pygments_lexer": "ipython3",
   "version": "3.10.9"
  }
 },
 "nbformat": 4,
 "nbformat_minor": 5
}
